{
 "cells": [
  {
   "cell_type": "code",
   "execution_count": 42,
   "metadata": {},
   "outputs": [
    {
     "name": "stdout",
     "output_type": "stream",
     "text": [
      "0.20.31\n"
     ]
    }
   ],
   "source": [
    "import polars as pl\n",
    "print(pl.__version__)"
   ]
  },
  {
   "cell_type": "markdown",
   "metadata": {},
   "source": [
    "### Find Total Time Spent by Each Employee"
   ]
  },
  {
   "cell_type": "markdown",
   "metadata": {},
   "source": [
    "#### Question\n",
    "\n",
    "DataFrame: Employees\n",
    "\n",
    "| Column Name | Type |\n",
    "|:-----------:|:----:|\n",
    "| emp_id      | int  |\n",
    "| event_day   | date |\n",
    "| in_time     | int  |\n",
    "| out_time    | int  |\n",
    "\n",
    "(emp_id, event_day, in_time) is the primary key (combinations of columns with unique values) of this table.<br>\n",
    "The table shows the employees' entries and exits in an office.<br>\n",
    "event_day is the day at which this event happened, in_time is the minute at which the employee entered the office, and out_time is the minute at which they left the office.<br>\n",
    "in_time and out_time are between 1 and 1440.<br>\n",
    "It is guaranteed that no two events on the same day intersect in time, and in_time < out_time.\n",
    " \n",
    "\n",
    "Write a solution to calculate the total time in minutes spent by each employee on each day at the office. Note that within one day, an employee can enter and leave more than once. The time spent in the office for a single entry is out_time - in_time.\n",
    "\n",
    "Return the result table in any order.\n",
    "\n",
    "The result format is in the following example.\n",
    "\n",
    "\n",
    "Input:<br>\n",
    "Employees dataframe:\n",
    "\n",
    "| emp_id | event_day  | in_time | out_time |\n",
    "|:------:|:----------:|:-------:|:--------:|\n",
    "| 1      | 2020-11-28 | 4       | 32       |\n",
    "| 1      | 2020-11-28 | 55      | 200      |\n",
    "| 1      | 2020-12-03 | 1       | 42       |\n",
    "| 2      | 2020-11-28 | 3       | 33       |\n",
    "| 2      | 2020-12-09 | 47      | 74       |\n",
    "\n",
    "Output: \n",
    "\n",
    "| day        | emp_id | total_time |\n",
    "|:----------:|:------:|:----------:|\n",
    "| 2020-11-28 | 1      | 173        |\n",
    "| 2020-11-28 | 2      | 30         |\n",
    "| 2020-12-03 | 1      | 41         |\n",
    "| 2020-12-09 | 2      | 27         |\n",
    "\n",
    "Explanation:<br>\n",
    "Employee 1 has three events: two on day 2020-11-28 with a total of (32 - 4) + (200 - 55) = 173, and one on day 2020-12-03 with a total of (42 - 1) = 41.<br>\n",
    "Employee 2 has two events: one on day 2020-11-28 with a total of (33 - 3) = 30, and one on day 2020-12-09 with a total of (74 - 47) = 27."
   ]
  },
  {
   "cell_type": "markdown",
   "metadata": {},
   "source": [
    "#### Testcase"
   ]
  },
  {
   "cell_type": "code",
   "execution_count": 43,
   "metadata": {},
   "outputs": [
    {
     "name": "stdout",
     "output_type": "stream",
     "text": [
      "shape: (5, 4)\n",
      "┌────────┬────────────┬─────────┬──────────┐\n",
      "│ emp_id ┆ event_day  ┆ in_time ┆ out_time │\n",
      "│ ---    ┆ ---        ┆ ---     ┆ ---      │\n",
      "│ str    ┆ str        ┆ str     ┆ str      │\n",
      "╞════════╪════════════╪═════════╪══════════╡\n",
      "│ 1      ┆ 2020-11-28 ┆ 4       ┆ 32       │\n",
      "│ 1      ┆ 2020-11-28 ┆ 55      ┆ 200      │\n",
      "│ 1      ┆ 2020-12-3  ┆ 1       ┆ 42       │\n",
      "│ 2      ┆ 2020-11-28 ┆ 3       ┆ 33       │\n",
      "│ 2      ┆ 2020-12-9  ┆ 47      ┆ 74       │\n",
      "└────────┴────────────┴─────────┴──────────┘\n"
     ]
    }
   ],
   "source": [
    "# Test data\n",
    "data = [['1', '2020-11-28', '4', '32'], ['1', '2020-11-28', '55', '200'], ['1', '2020-12-3', '1', '42'], ['2', '2020-11-28', '3', '33'], ['2', '2020-12-9', '47', '74']]\n",
    "\n",
    "# Create the DataFrame\n",
    "employees = pl.DataFrame(\n",
    "    data,\n",
    "    schema=['emp_id', 'event_day', 'in_time', 'out_time']\n",
    ")\n",
    "\n",
    "# Display the DataFrame\n",
    "print(employees)"
   ]
  },
  {
   "cell_type": "markdown",
   "metadata": {},
   "source": [
    "#### Solution"
   ]
  },
  {
   "cell_type": "code",
   "execution_count": 44,
   "metadata": {},
   "outputs": [
    {
     "name": "stdout",
     "output_type": "stream",
     "text": [
      "shape: (4, 3)\n",
      "┌────────────┬────────┬────────────┐\n",
      "│ day        ┆ emp_id ┆ total_time │\n",
      "│ ---        ┆ ---    ┆ ---        │\n",
      "│ str        ┆ str    ┆ i64        │\n",
      "╞════════════╪════════╪════════════╡\n",
      "│ 2020-11-28 ┆ 1      ┆ 173        │\n",
      "│ 2020-11-28 ┆ 2      ┆ 30         │\n",
      "│ 2020-12-9  ┆ 2      ┆ 27         │\n",
      "│ 2020-12-3  ┆ 1      ┆ 41         │\n",
      "└────────────┴────────┴────────────┘\n"
     ]
    }
   ],
   "source": [
    "def total_time(employees: pl.DataFrame) -> pl.DataFrame:\n",
    "    \n",
    "    # Rename 'event_day' to 'day'\n",
    "    employees = employees.rename({'event_day': 'day'})\n",
    "    \n",
    "    # Calculate 'total_time' as the difference between 'out_time' and 'in_time'\n",
    "    employees = employees.with_columns((pl.col('out_time').cast(pl.Int64) - pl.col('in_time').cast(pl.Int64)).alias('total_time'))\n",
    "    \n",
    "    # Group by 'day' and 'emp_id' and sum the 'total_time'\n",
    "    result = (\n",
    "        employees\n",
    "        .group_by(['day', 'emp_id'])\n",
    "        .agg(pl.sum('total_time').alias('total_time'))\n",
    "    )\n",
    "    \n",
    "    return result\n",
    "\n",
    "# Display the result\n",
    "print(total_time(employees=employees))"
   ]
  },
  {
   "cell_type": "markdown",
   "metadata": {},
   "source": [
    "### Game Play Analysis I"
   ]
  },
  {
   "cell_type": "markdown",
   "metadata": {},
   "source": [
    "#### Question\n",
    "\n",
    "DataFrame: Activity\n",
    "\n",
    "| Column Name  | Type    |\n",
    "|:------------:|:-------:|\n",
    "| player_id    | int     |\n",
    "| device_id    | int     |\n",
    "| event_date   | date    |\n",
    "| games_played | int     |\n",
    "\n",
    "(player_id, event_date) is the primary key (combination of columns with unique values) of this table.<br>\n",
    "This table shows the activity of players of some games.<br>\n",
    "Each row is a record of a player who logged in and played a number of games (possibly 0) before logging out on someday using some device.<br>\n",
    " \n",
    "\n",
    "Write a solution to find the first login date for each player.\n",
    "\n",
    "Return the result table in any order.\n",
    "\n",
    "The result format is in the following example.\n",
    "\n",
    "Input:<br>\n",
    "Activity dataframe:\n",
    "\n",
    "| player_id | device_id | event_date | games_played |\n",
    "|:---------:|:---------:|:----------:|:------------:|\n",
    "| 1         | 2         | 2016-03-01 | 5            |\n",
    "| 1         | 2         | 2016-05-02 | 6            |\n",
    "| 2         | 3         | 2017-06-25 | 1            |\n",
    "| 3         | 1         | 2016-03-02 | 0            |\n",
    "| 3         | 4         | 2018-07-03 | 5            |\n",
    "\n",
    "Output: \n",
    "\n",
    "| player_id | first_login |\n",
    "|:---------:|-----------:|\n",
    "| 1         | 2016-03-01  |\n",
    "| 2         | 2017-06-25  |\n",
    "| 3         | 2016-03-02  |"
   ]
  },
  {
   "cell_type": "markdown",
   "metadata": {},
   "source": [
    "#### Testcase"
   ]
  },
  {
   "cell_type": "code",
   "execution_count": 45,
   "metadata": {},
   "outputs": [
    {
     "name": "stdout",
     "output_type": "stream",
     "text": [
      "shape: (5, 4)\n",
      "┌───────────┬───────────┬────────────┬──────────────┐\n",
      "│ player_id ┆ device_id ┆ event_date ┆ games_played │\n",
      "│ ---       ┆ ---       ┆ ---        ┆ ---          │\n",
      "│ i64       ┆ i64       ┆ str        ┆ i64          │\n",
      "╞═══════════╪═══════════╪════════════╪══════════════╡\n",
      "│ 1         ┆ 2         ┆ 2016-03-01 ┆ 5            │\n",
      "│ 1         ┆ 2         ┆ 2016-05-02 ┆ 6            │\n",
      "│ 2         ┆ 3         ┆ 2017-06-25 ┆ 1            │\n",
      "│ 3         ┆ 1         ┆ 2016-03-02 ┆ 0            │\n",
      "│ 3         ┆ 4         ┆ 2018-07-03 ┆ 5            │\n",
      "└───────────┴───────────┴────────────┴──────────────┘\n"
     ]
    }
   ],
   "source": [
    "# Test data\n",
    "data = [[1, 2, '2016-03-01', 5], [1, 2, '2016-05-02', 6], [2, 3, '2017-06-25', 1], [3, 1, '2016-03-02', 0], [3, 4, '2018-07-03', 5]]\n",
    "\n",
    "# Create the DataFrame\n",
    "activity = pl.DataFrame(\n",
    "    data,\n",
    "    schema=['player_id', 'device_id', 'event_date', 'games_played']\n",
    ")\n",
    "\n",
    "# Display the DataFrame\n",
    "print(activity)\n"
   ]
  },
  {
   "cell_type": "markdown",
   "metadata": {},
   "source": [
    "#### Solution"
   ]
  },
  {
   "cell_type": "code",
   "execution_count": 46,
   "metadata": {},
   "outputs": [
    {
     "name": "stdout",
     "output_type": "stream",
     "text": [
      "shape: (3, 2)\n",
      "┌───────────┬─────────────┐\n",
      "│ player_id ┆ first_login │\n",
      "│ ---       ┆ ---         │\n",
      "│ i64       ┆ str         │\n",
      "╞═══════════╪═════════════╡\n",
      "│ 2         ┆ 2017-06-25  │\n",
      "│ 3         ┆ 2016-03-02  │\n",
      "│ 1         ┆ 2016-03-01  │\n",
      "└───────────┴─────────────┘\n"
     ]
    }
   ],
   "source": [
    "def game_analysis(activity: pl.DataFrame) -> pl.DataFrame:\n",
    "    \n",
    "    # Group by 'player_id' and get the minimum 'event_date' for each player\n",
    "    result = (\n",
    "        activity\n",
    "        .group_by('player_id')\n",
    "        .agg(pl.col('event_date').min().alias('first_login'))\n",
    "    )\n",
    "    \n",
    "    return result\n",
    "\n",
    "\n",
    "# Display the result\n",
    "print(game_analysis(activity=activity))"
   ]
  },
  {
   "cell_type": "markdown",
   "metadata": {},
   "source": [
    "### Number of Unique Subjects Taught by Each Teacher"
   ]
  },
  {
   "cell_type": "markdown",
   "metadata": {},
   "source": [
    "#### Question\n",
    "\n",
    "DataFrame: Teacher\n",
    "\n",
    "| Column Name | Type |\n",
    "|:-----------:|:----:|\n",
    "| teacher_id  | int  |\n",
    "| subject_id  | int  |\n",
    "| dept_id     | int  |\n",
    "\n",
    "(subject_id, dept_id) is the primary key (combinations of columns with unique values) of this table.<br>\n",
    "Each row in this table indicates that the teacher with teacher_id teaches the subject subject_id in the department dept_id.\n",
    " \n",
    "\n",
    "Write a solution to calculate the number of unique subjects each teacher teaches in the university.\n",
    "\n",
    "Return the result table in any order.\n",
    "\n",
    "The result format is shown in the following example.\n",
    "\n",
    "Input:<br>\n",
    "Teacher dataframe:\n",
    "\n",
    "| teacher_id | subject_id | dept_id |\n",
    "|:----------:|:----------:|:-------:|\n",
    "| 1          | 2          | 3       |\n",
    "| 1          | 2          | 4       |\n",
    "| 1          | 3          | 3       |\n",
    "| 2          | 1          | 1       |\n",
    "| 2          | 2          | 1       |\n",
    "| 2          | 3          | 1       |\n",
    "| 2          | 4          | 1       |\n",
    "\n",
    "Output:  \n",
    "\n",
    "| teacher_id | cnt |\n",
    "|:----------:|:---:|\n",
    "| 1          | 2   |\n",
    "| 2          | 4   |\n",
    "\n",
    "Explanation:<br>\n",
    "Teacher 1:\n",
    "  - They teach subject 2 in departments 3 and 4.\n",
    "  - They teach subject 3 in department 3.\n",
    "\n",
    "Teacher 2:\n",
    "  - They teach subject 1 in department 1.\n",
    "  - They teach subject 2 in department 1.\n",
    "  - They teach subject 3 in department 1.\n",
    "  - They teach subject 4 in department 1."
   ]
  },
  {
   "cell_type": "markdown",
   "metadata": {},
   "source": [
    "#### Testcase"
   ]
  },
  {
   "cell_type": "code",
   "execution_count": 47,
   "metadata": {},
   "outputs": [
    {
     "name": "stdout",
     "output_type": "stream",
     "text": [
      "shape: (7, 3)\n",
      "┌────────────┬────────────┬─────────┐\n",
      "│ teacher_id ┆ subject_id ┆ dept_id │\n",
      "│ ---        ┆ ---        ┆ ---     │\n",
      "│ i64        ┆ i64        ┆ i64     │\n",
      "╞════════════╪════════════╪═════════╡\n",
      "│ 1          ┆ 2          ┆ 3       │\n",
      "│ 1          ┆ 2          ┆ 4       │\n",
      "│ 1          ┆ 3          ┆ 3       │\n",
      "│ 2          ┆ 1          ┆ 1       │\n",
      "│ 2          ┆ 2          ┆ 1       │\n",
      "│ 2          ┆ 3          ┆ 1       │\n",
      "│ 2          ┆ 4          ┆ 1       │\n",
      "└────────────┴────────────┴─────────┘\n"
     ]
    }
   ],
   "source": [
    "# Test data\n",
    "data = [[1, 2, 3], [1, 2, 4], [1, 3, 3], [2, 1, 1], [2, 2, 1], [2, 3, 1], [2, 4, 1]]\n",
    "\n",
    "# Create the DataFrame\n",
    "teacher = pl.DataFrame(\n",
    "    data,\n",
    "    schema=['teacher_id', 'subject_id', 'dept_id']\n",
    ")\n",
    "\n",
    "# Display the DataFrame\n",
    "print(teacher)"
   ]
  },
  {
   "cell_type": "markdown",
   "metadata": {},
   "source": [
    "#### Solution"
   ]
  },
  {
   "cell_type": "code",
   "execution_count": 48,
   "metadata": {},
   "outputs": [
    {
     "name": "stdout",
     "output_type": "stream",
     "text": [
      "shape: (2, 2)\n",
      "┌────────────┬─────┐\n",
      "│ teacher_id ┆ cnt │\n",
      "│ ---        ┆ --- │\n",
      "│ i64        ┆ u32 │\n",
      "╞════════════╪═════╡\n",
      "│ 1          ┆ 2   │\n",
      "│ 2          ┆ 4   │\n",
      "└────────────┴─────┘\n"
     ]
    }
   ],
   "source": [
    "def count_unique_subjects(teacher: pl.DataFrame) -> pl.DataFrame:\n",
    "    \n",
    "    # Group by 'teacher_id' and count the unique 'subject_id' for each group\n",
    "    result = (\n",
    "        teacher\n",
    "        .group_by('teacher_id')\n",
    "        .agg(pl.col('subject_id').n_unique().alias('cnt'))\n",
    "    )\n",
    "    \n",
    "    return result\n",
    "\n",
    "# Display the result\n",
    "print(count_unique_subjects(teacher=teacher))"
   ]
  },
  {
   "cell_type": "markdown",
   "metadata": {},
   "source": [
    "### Classes More Than 5 Students"
   ]
  },
  {
   "cell_type": "markdown",
   "metadata": {},
   "source": [
    "#### Question\n",
    "\n",
    "Dataframe: Courses\n",
    "\n",
    "| Column Name | Type    |\n",
    "|:-----------:|:-------:|\n",
    "| student     | varchar |\n",
    "| class       | varchar |\n",
    "\n",
    "(student, class) is the primary key (combination of columns with unique values) for this table.<br>\n",
    "Each row of this table indicates the name of a student and the class in which they are enrolled.\n",
    " \n",
    "\n",
    "Write a solution to find all the classes that have at least five students.\n",
    "\n",
    "Return the result table in any order.\n",
    "\n",
    "The result format is in the following example.\n",
    "\n",
    "Input:<br>\n",
    "Courses dataframe:\n",
    "\n",
    "| student | class    |\n",
    "|:-------:|:--------:|\n",
    "| A       | Math     |\n",
    "| B       | English  |\n",
    "| C       | Math     |\n",
    "| D       | Biology  |\n",
    "| E       | Math     |\n",
    "| F       | Computer |\n",
    "| G       | Math     |\n",
    "| H       | Math     |\n",
    "| I       | Math     |\n",
    "\n",
    "Output: \n",
    "\n",
    "| class   |\n",
    "|:-------:|\n",
    "| Math    |\n",
    "\n",
    "Explanation:<br>\n",
    "- Math has 6 students, so we include it.\n",
    "- English has 1 student, so we do not include it.\n",
    "- Biology has 1 student, so we do not include it.\n",
    "- Computer has 1 student, so we do not include it."
   ]
  },
  {
   "cell_type": "markdown",
   "metadata": {},
   "source": [
    "#### Testcase"
   ]
  },
  {
   "cell_type": "code",
   "execution_count": 49,
   "metadata": {},
   "outputs": [
    {
     "name": "stdout",
     "output_type": "stream",
     "text": [
      "shape: (9, 2)\n",
      "┌─────────┬──────────┐\n",
      "│ student ┆ class    │\n",
      "│ ---     ┆ ---      │\n",
      "│ str     ┆ str      │\n",
      "╞═════════╪══════════╡\n",
      "│ A       ┆ Math     │\n",
      "│ B       ┆ English  │\n",
      "│ C       ┆ Math     │\n",
      "│ D       ┆ Biology  │\n",
      "│ E       ┆ Math     │\n",
      "│ F       ┆ Computer │\n",
      "│ G       ┆ Math     │\n",
      "│ H       ┆ Math     │\n",
      "│ I       ┆ Math     │\n",
      "└─────────┴──────────┘\n"
     ]
    }
   ],
   "source": [
    "# Test data\n",
    "data = [['A', 'Math'], ['B', 'English'], ['C', 'Math'], ['D', 'Biology'], ['E', 'Math'], ['F', 'Computer'], ['G', 'Math'], ['H', 'Math'], ['I', 'Math']]\n",
    "\n",
    "# Create the DataFrame\n",
    "courses = pl.DataFrame(\n",
    "    data,\n",
    "    schema=['student', 'class']\n",
    ")\n",
    "\n",
    "# Display the DataFrame\n",
    "print(courses)"
   ]
  },
  {
   "cell_type": "markdown",
   "metadata": {},
   "source": [
    "#### Solution"
   ]
  },
  {
   "cell_type": "code",
   "execution_count": 50,
   "metadata": {},
   "outputs": [
    {
     "name": "stdout",
     "output_type": "stream",
     "text": [
      "shape: (1, 1)\n",
      "┌───────┐\n",
      "│ class │\n",
      "│ ---   │\n",
      "│ str   │\n",
      "╞═══════╡\n",
      "│ Math  │\n",
      "└───────┘\n"
     ]
    }
   ],
   "source": [
    "def find_classes(courses: pl.DataFrame) -> pl.DataFrame:\n",
    "\n",
    "    # Group by 'class' and count the number of students in each class\n",
    "    c = (\n",
    "        courses\n",
    "        .group_by('class')\n",
    "        .agg(pl.col('student').count().alias('student_count'))\n",
    "    )\n",
    "    \n",
    "    # Filter classes with at least 5 students\n",
    "    result = c.filter(pl.col('student_count') >= 5).select(['class'])\n",
    "    \n",
    "    return result\n",
    "\n",
    "# Display the result\n",
    "print(find_classes(courses=courses))"
   ]
  },
  {
   "cell_type": "markdown",
   "metadata": {},
   "source": [
    "### Customer Placing the Largest Number of Orders"
   ]
  },
  {
   "cell_type": "markdown",
   "metadata": {},
   "source": [
    "#### Question\n",
    "\n",
    "DataFrame: Orders\n",
    "\n",
    "| Column Name     | Type     |\n",
    "|:---------------:|:--------:|\n",
    "| order_number    | int      |\n",
    "| customer_number | int      |\n",
    "\n",
    "order_number is the primary key (column with unique values) for this table.<br>\n",
    "This table contains information about the order ID and the customer ID.\n",
    " \n",
    "\n",
    "Write a solution to find the customer_number for the customer who has placed the largest number of orders.\n",
    "\n",
    "The test cases are generated so that exactly one customer will have placed more orders than any other customer.\n",
    "\n",
    "The result format is in the following example.\n",
    "\n",
    "Input:<br>\n",
    "Orders dataframe:\n",
    "\n",
    "| order_number | customer_number |\n",
    "|:------------:|:---------------:|\n",
    "| 1            | 1               |\n",
    "| 2            | 2               |\n",
    "| 3            | 3               |\n",
    "| 4            | 3               |\n",
    "\n",
    "Output:<br>\n",
    "\n",
    "| customer_number |\n",
    "|:---------------:|\n",
    "| 3               |\n",
    "\n",
    "Explanation:<br>\n",
    "The customer with number 3 has two orders, which is greater than either customer 1 or 2 because each of them only has one order. \n",
    "So the result is customer_number 3."
   ]
  },
  {
   "cell_type": "markdown",
   "metadata": {},
   "source": [
    "#### Testcase"
   ]
  },
  {
   "cell_type": "code",
   "execution_count": 51,
   "metadata": {},
   "outputs": [
    {
     "name": "stdout",
     "output_type": "stream",
     "text": [
      "shape: (4, 2)\n",
      "┌──────────────┬─────────────────┐\n",
      "│ order_number ┆ customer_number │\n",
      "│ ---          ┆ ---             │\n",
      "│ i64          ┆ i64             │\n",
      "╞══════════════╪═════════════════╡\n",
      "│ 1            ┆ 1               │\n",
      "│ 2            ┆ 2               │\n",
      "│ 3            ┆ 3               │\n",
      "│ 4            ┆ 3               │\n",
      "└──────────────┴─────────────────┘\n"
     ]
    }
   ],
   "source": [
    "# Test data\n",
    "data = [[1, 1], [2, 2], [3, 3], [4, 3]]\n",
    "\n",
    "# Create the DataFrame\n",
    "orders = pl.DataFrame(\n",
    "    data,\n",
    "    schema=['order_number', 'customer_number']\n",
    ")\n",
    "\n",
    "# Display the DataFrame\n",
    "print(orders)"
   ]
  },
  {
   "cell_type": "markdown",
   "metadata": {},
   "source": [
    "#### Solution"
   ]
  },
  {
   "cell_type": "code",
   "execution_count": 52,
   "metadata": {},
   "outputs": [
    {
     "name": "stdout",
     "output_type": "stream",
     "text": [
      "shape: (1, 1)\n",
      "┌─────────────────┐\n",
      "│ customer_number │\n",
      "│ ---             │\n",
      "│ i64             │\n",
      "╞═════════════════╡\n",
      "│ 3               │\n",
      "└─────────────────┘\n"
     ]
    }
   ],
   "source": [
    "def largest_orders(orders: pl.DataFrame) -> pl.DataFrame:\n",
    "    \n",
    "    # Group by 'customer_number' and count the number of occurrences for each customer\n",
    "    customer_counts = (\n",
    "        orders\n",
    "        .group_by('customer_number')\n",
    "        .agg(pl.col('customer_number').count().alias('count'))\n",
    "    )\n",
    "    \n",
    "    # Find the maximum count\n",
    "    max_count = customer_counts['count'].max()\n",
    "    \n",
    "    # Filter customers with the maximum count (mode)\n",
    "    top_cust = customer_counts.filter(pl.col('count') == max_count).select(['customer_number'])\n",
    "    \n",
    "    return top_cust\n",
    "\n",
    "\n",
    "# Display the result\n",
    "print(largest_orders(orders=orders))"
   ]
  },
  {
   "cell_type": "markdown",
   "metadata": {},
   "source": [
    "### Group Sold Products By The Date"
   ]
  },
  {
   "cell_type": "markdown",
   "metadata": {},
   "source": [
    "#### Question\n",
    "\n",
    "DataFrame Activities:\n",
    "\n",
    "| Column Name | Type    |\n",
    "|:-----------:|:-------:|\n",
    "| sell_date   | date    |\n",
    "| product     | varchar |\n",
    "\n",
    "There is no primary key (column with unique values) for this table. It may contain duplicates.<br>\n",
    "Each row of this table contains the product name and the date it was sold in a market.\n",
    " \n",
    "\n",
    "Write a solution to find for each date the number of different products sold and their names.\n",
    "\n",
    "The sold products names for each date should be sorted lexicographically.\n",
    "\n",
    "Return the result table ordered by sell_date.\n",
    "\n",
    "The result format is in the following example.\n",
    "\n",
    "Input:<br>\n",
    "Activities table:\n",
    "\n",
    "| sell_date  | product    |\n",
    "|:----------:|:----------:|\n",
    "| 2020-05-30 | Headphone  |\n",
    "| 2020-06-01 | Pencil     |\n",
    "| 2020-06-02 | Mask       |\n",
    "| 2020-05-30 | Basketball |\n",
    "| 2020-06-01 | Bible      |\n",
    "| 2020-06-02 | Mask       |\n",
    "| 2020-05-30 | T-Shirt    |\n",
    "\n",
    "Output:<br>\n",
    "\n",
    "| sell_date  | num_sold | products                     |\n",
    "|:----------:|:--------:|:----------------------------:|\n",
    "| 2020-05-30 | 3        | Basketball,Headphone,T-shirt |\n",
    "| 2020-06-01 | 2        | Bible,Pencil                 |\n",
    "| 2020-06-02 | 1        | Mask                         |\n",
    "\n",
    "Explanation:<br>\n",
    "For 2020-05-30, Sold items were (Headphone, Basketball, T-shirt), we sort them lexicographically and separate them by a comma.<br>\n",
    "For 2020-06-01, Sold items were (Pencil, Bible), we sort them lexicographically and separate them by a comma.<br>\n",
    "For 2020-06-02, the Sold item is (Mask), we just return it."
   ]
  },
  {
   "cell_type": "markdown",
   "metadata": {},
   "source": [
    "#### Testcase"
   ]
  },
  {
   "cell_type": "code",
   "execution_count": 53,
   "metadata": {},
   "outputs": [
    {
     "name": "stdout",
     "output_type": "stream",
     "text": [
      "shape: (7, 2)\n",
      "┌────────────┬────────────┐\n",
      "│ sell_date  ┆ product    │\n",
      "│ ---        ┆ ---        │\n",
      "│ str        ┆ str        │\n",
      "╞════════════╪════════════╡\n",
      "│ 2020-05-30 ┆ Headphone  │\n",
      "│ 2020-06-01 ┆ Pencil     │\n",
      "│ 2020-06-02 ┆ Mask       │\n",
      "│ 2020-05-30 ┆ Basketball │\n",
      "│ 2020-06-01 ┆ Bible      │\n",
      "│ 2020-06-02 ┆ Mask       │\n",
      "│ 2020-05-30 ┆ T-Shirt    │\n",
      "└────────────┴────────────┘\n"
     ]
    }
   ],
   "source": [
    "# Test data\n",
    "data = [['2020-05-30', 'Headphone'], ['2020-06-01', 'Pencil'], ['2020-06-02', 'Mask'], ['2020-05-30', 'Basketball'], ['2020-06-01', 'Bible'], ['2020-06-02', 'Mask'], ['2020-05-30', 'T-Shirt']]\n",
    "\n",
    "# Create the DataFrame\n",
    "activities = pl.DataFrame(\n",
    "    data,\n",
    "    schema=['sell_date', 'product']\n",
    ")\n",
    "\n",
    "# Display the DataFrame\n",
    "print(activities)"
   ]
  },
  {
   "cell_type": "markdown",
   "metadata": {},
   "source": [
    "#### Solution"
   ]
  },
  {
   "cell_type": "code",
   "execution_count": 54,
   "metadata": {},
   "outputs": [
    {
     "name": "stdout",
     "output_type": "stream",
     "text": [
      "shape: (3, 3)\n",
      "┌────────────┬──────────┬──────────────────────────────┐\n",
      "│ sell_date  ┆ num_sold ┆ products                     │\n",
      "│ ---        ┆ ---      ┆ ---                          │\n",
      "│ str        ┆ u32      ┆ str                          │\n",
      "╞════════════╪══════════╪══════════════════════════════╡\n",
      "│ 2020-05-30 ┆ 3        ┆ Basketball,Headphone,T-Shirt │\n",
      "│ 2020-06-01 ┆ 2        ┆ Bible,Pencil                 │\n",
      "│ 2020-06-02 ┆ 1        ┆ Mask                         │\n",
      "└────────────┴──────────┴──────────────────────────────┘\n"
     ]
    }
   ],
   "source": [
    "def categorize_products(activities: pl.DataFrame) -> pl.DataFrame:\n",
    "\n",
    "    # Group by 'sell_date' and calculate the number of unique products sold and a sorted list of unique products\n",
    "    result = (\n",
    "        activities\n",
    "        .group_by('sell_date')\n",
    "        .agg([\n",
    "            pl.col('product').n_unique().alias('num_sold'),\n",
    "            pl.col('product')\n",
    "              .unique()\n",
    "              .map_elements(lambda x: \",\".join(sorted(x)), return_dtype=pl.String)\n",
    "              .alias('products')\n",
    "        ])\n",
    "    )\n",
    "\n",
    "    return result\n",
    "\n",
    "\n",
    "# Display the result\n",
    "print(categorize_products(activities=activities))"
   ]
  },
  {
   "cell_type": "markdown",
   "metadata": {},
   "source": [
    "### Daily Leads and Partners"
   ]
  },
  {
   "cell_type": "markdown",
   "metadata": {},
   "source": [
    "#### Question\n",
    "\n",
    "DataFrame: DailySales\n",
    "\n",
    "\n",
    "| Column Name | Type    |\n",
    "|:-----------:|:-------:|\n",
    "| date_id     | date    |\n",
    "| make_name   | varchar |\n",
    "| lead_id     | int     |\n",
    "| partner_id  | int     |\n",
    "\n",
    "There is no primary key (column with unique values) for this table. It may contain duplicates.<br>\n",
    "This table contains the date and the name of the product sold and the IDs of the lead and partner it was sold to.<br>\n",
    "The name consists of only lowercase English letters.\n",
    " \n",
    "\n",
    "For each date_id and make_name, find the number of distinct lead_id's and distinct partner_id's.\n",
    "\n",
    "Return the result table in any order.\n",
    "\n",
    "The result format is in the following example.\n",
    "\n",
    "Input:<br>\n",
    "DailySales dataframe:\n",
    "\n",
    "| date_id   | make_name | lead_id | partner_id |\n",
    "|:---------:|:---------:|:-------:|:----------:|\n",
    "| 2020-12-8 | toyota    | 0       | 1          |\n",
    "| 2020-12-8 | toyota    | 1       | 0          |\n",
    "| 2020-12-8 | toyota    | 1       | 2          |\n",
    "| 2020-12-7 | toyota    | 0       | 2          |\n",
    "| 2020-12-7 | toyota    | 0       | 1          |\n",
    "| 2020-12-8 | honda     | 1       | 2          |\n",
    "| 2020-12-8 | honda     | 2       | 1          |\n",
    "| 2020-12-7 | honda     | 0       | 1          |\n",
    "| 2020-12-7 | honda     | 1       | 2          |\n",
    "| 2020-12-7 | honda     | 2       | 1          |\n",
    "\n",
    "Output: \n",
    "\n",
    "| date_id   | make_name | unique_leads | unique_partners |\n",
    "|:---------:|:---------:|:------------:|:---------------:|\n",
    "| 2020-12-8 | toyota    | 2            | 3               |\n",
    "| 2020-12-7 | toyota    | 1            | 2               |\n",
    "| 2020-12-8 | honda     | 2            | 2               |\n",
    "| 2020-12-7 | honda     | 3            | 2               |\n",
    "\n",
    "Explanation:<br>\n",
    "For 2020-12-8, toyota gets leads = [0, 1] and partners = [0, 1, 2] while honda gets leads = [1, 2] and partners = [1, 2].<br>\n",
    "For 2020-12-7, toyota gets leads = [0] and partners = [1, 2] while honda gets leads = [0, 1, 2] and partners = [1, 2]."
   ]
  },
  {
   "cell_type": "markdown",
   "metadata": {},
   "source": [
    "#### Testcase"
   ]
  },
  {
   "cell_type": "code",
   "execution_count": 55,
   "metadata": {},
   "outputs": [
    {
     "name": "stdout",
     "output_type": "stream",
     "text": [
      "shape: (10, 4)\n",
      "┌───────────┬───────────┬─────────┬────────────┐\n",
      "│ date_id   ┆ make_name ┆ lead_id ┆ partner_id │\n",
      "│ ---       ┆ ---       ┆ ---     ┆ ---        │\n",
      "│ str       ┆ str       ┆ i64     ┆ i64        │\n",
      "╞═══════════╪═══════════╪═════════╪════════════╡\n",
      "│ 2020-12-8 ┆ toyota    ┆ 0       ┆ 1          │\n",
      "│ 2020-12-8 ┆ toyota    ┆ 1       ┆ 0          │\n",
      "│ 2020-12-8 ┆ toyota    ┆ 1       ┆ 2          │\n",
      "│ 2020-12-7 ┆ toyota    ┆ 0       ┆ 2          │\n",
      "│ 2020-12-7 ┆ toyota    ┆ 0       ┆ 1          │\n",
      "│ 2020-12-8 ┆ honda     ┆ 1       ┆ 2          │\n",
      "│ 2020-12-8 ┆ honda     ┆ 2       ┆ 1          │\n",
      "│ 2020-12-7 ┆ honda     ┆ 0       ┆ 1          │\n",
      "│ 2020-12-7 ┆ honda     ┆ 1       ┆ 2          │\n",
      "│ 2020-12-7 ┆ honda     ┆ 2       ┆ 1          │\n",
      "└───────────┴───────────┴─────────┴────────────┘\n"
     ]
    }
   ],
   "source": [
    "# Test data\n",
    "data = [['2020-12-8', 'toyota', 0, 1], ['2020-12-8', 'toyota', 1, 0], ['2020-12-8', 'toyota', 1, 2], ['2020-12-7', 'toyota', 0, 2], ['2020-12-7', 'toyota', 0, 1], ['2020-12-8', 'honda', 1, 2], ['2020-12-8', 'honda', 2, 1], ['2020-12-7', 'honda', 0, 1], ['2020-12-7', 'honda', 1, 2], ['2020-12-7', 'honda', 2, 1]]\n",
    "\n",
    "# Create the DataFrame\n",
    "daily_sales = pl.DataFrame(\n",
    "    data,\n",
    "    schema=['date_id', 'make_name', 'lead_id', 'partner_id']\n",
    ")\n",
    "\n",
    "# Display the DataFrame\n",
    "print(daily_sales)"
   ]
  },
  {
   "cell_type": "markdown",
   "metadata": {},
   "source": [
    "#### Solution"
   ]
  },
  {
   "cell_type": "code",
   "execution_count": 56,
   "metadata": {},
   "outputs": [
    {
     "name": "stdout",
     "output_type": "stream",
     "text": [
      "shape: (4, 4)\n",
      "┌───────────┬───────────┬──────────────┬─────────────────┐\n",
      "│ date_id   ┆ make_name ┆ unique_leads ┆ unique_partners │\n",
      "│ ---       ┆ ---       ┆ ---          ┆ ---             │\n",
      "│ str       ┆ str       ┆ u32          ┆ u32             │\n",
      "╞═══════════╪═══════════╪══════════════╪═════════════════╡\n",
      "│ 2020-12-8 ┆ honda     ┆ 2            ┆ 2               │\n",
      "│ 2020-12-7 ┆ toyota    ┆ 1            ┆ 2               │\n",
      "│ 2020-12-8 ┆ toyota    ┆ 2            ┆ 3               │\n",
      "│ 2020-12-7 ┆ honda     ┆ 3            ┆ 2               │\n",
      "└───────────┴───────────┴──────────────┴─────────────────┘\n"
     ]
    }
   ],
   "source": [
    "def daily_leads_and_partners(daily_sales: pl.DataFrame) -> pl.DataFrame:\n",
    "\n",
    "    # Group by 'date_id' and 'make_name', and count unique 'lead_id' and 'partner_id'\n",
    "    result = (\n",
    "        daily_sales\n",
    "        .group_by(['date_id', 'make_name'])\n",
    "        .agg([\n",
    "            pl.col('lead_id').n_unique().alias('unique_leads'),\n",
    "            pl.col('partner_id').n_unique().alias('unique_partners')\n",
    "        ])\n",
    "    )\n",
    "    \n",
    "    return result\n",
    "\n",
    "\n",
    "# Display the result\n",
    "print(daily_leads_and_partners(daily_sales=daily_sales))"
   ]
  }
 ],
 "metadata": {
  "kernelspec": {
   "display_name": "polars_exercises_env",
   "language": "python",
   "name": "python3"
  },
  "language_info": {
   "codemirror_mode": {
    "name": "ipython",
    "version": 3
   },
   "file_extension": ".py",
   "mimetype": "text/x-python",
   "name": "python",
   "nbconvert_exporter": "python",
   "pygments_lexer": "ipython3",
   "version": "3.11.2"
  }
 },
 "nbformat": 4,
 "nbformat_minor": 2
}
