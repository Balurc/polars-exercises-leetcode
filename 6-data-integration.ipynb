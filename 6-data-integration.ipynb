{
 "cells": [
  {
   "cell_type": "code",
   "execution_count": 47,
   "metadata": {},
   "outputs": [
    {
     "name": "stdout",
     "output_type": "stream",
     "text": [
      "0.20.31\n"
     ]
    }
   ],
   "source": [
    "import polars as pl\n",
    "print(pl.__version__)"
   ]
  },
  {
   "cell_type": "markdown",
   "metadata": {},
   "source": [
    "### Actors and Directors Who Cooperated At Least Three Times"
   ]
  },
  {
   "cell_type": "markdown",
   "metadata": {},
   "source": [
    "#### Question\n",
    "\n",
    "DataFrame: ActorDirector\n",
    "\n",
    "| Column Name | Type    |\n",
    "|:-----------:|:-------:|\n",
    "| actor_id    | int     |\n",
    "| director_id | int     |\n",
    "| timestamp   | int     |\n",
    "\n",
    "timestamp is the primary key (column with unique values) for this table.\n",
    " \n",
    "\n",
    "Write a solution to find all the pairs (actor_id, director_id) where the actor has cooperated with the director at least three times.\n",
    "\n",
    "Return the result table in any order.\n",
    "\n",
    "The result format is in the following example.\n",
    "\n",
    "Input:<br>\n",
    "ActorDirector dataframe:\n",
    "\n",
    "| actor_id    | director_id | timestamp   |\n",
    "|:-----------:|:-----------:|:-----------:|\n",
    "| 1           | 1           | 0           |\n",
    "| 1           | 1           | 1           |\n",
    "| 1           | 1           | 2           |\n",
    "| 1           | 2           | 3           |\n",
    "| 1           | 2           | 4           |\n",
    "| 2           | 1           | 5           |\n",
    "| 2           | 1           | 6           |\n",
    "\n",
    "Output: \n",
    "\n",
    "| actor_id    | director_id |\n",
    "|:-----------:|:-----------:|\n",
    "| 1           | 1           |\n",
    "\n",
    "Explanation: The only pair is (1, 1) where they cooperated exactly 3 times."
   ]
  },
  {
   "cell_type": "markdown",
   "metadata": {},
   "source": [
    "#### Testcase"
   ]
  },
  {
   "cell_type": "code",
   "execution_count": 48,
   "metadata": {},
   "outputs": [
    {
     "name": "stdout",
     "output_type": "stream",
     "text": [
      "shape: (7, 3)\n",
      "┌──────────┬─────────────┬───────────┐\n",
      "│ actor_id ┆ director_id ┆ timestamp │\n",
      "│ ---      ┆ ---         ┆ ---       │\n",
      "│ i64      ┆ i64         ┆ i64       │\n",
      "╞══════════╪═════════════╪═══════════╡\n",
      "│ 1        ┆ 1           ┆ 0         │\n",
      "│ 1        ┆ 1           ┆ 1         │\n",
      "│ 1        ┆ 1           ┆ 2         │\n",
      "│ 1        ┆ 2           ┆ 3         │\n",
      "│ 1        ┆ 2           ┆ 4         │\n",
      "│ 2        ┆ 1           ┆ 5         │\n",
      "│ 2        ┆ 1           ┆ 6         │\n",
      "└──────────┴─────────────┴───────────┘\n"
     ]
    }
   ],
   "source": [
    "# Test data\n",
    "data = [[1, 1, 0], [1, 1, 1], [1, 1, 2], [1, 2, 3], [1, 2, 4], [2, 1, 5], [2, 1, 6]]\n",
    "\n",
    "\n",
    "# Create the DataFrame\n",
    "actor_director = pl.DataFrame(\n",
    "    data,\n",
    "    schema=['actor_id', 'director_id', 'timestamp']\n",
    ")\n",
    "\n",
    "# Display the DataFrame\n",
    "print(actor_director)"
   ]
  },
  {
   "cell_type": "markdown",
   "metadata": {},
   "source": [
    "#### Solution"
   ]
  },
  {
   "cell_type": "code",
   "execution_count": 49,
   "metadata": {},
   "outputs": [
    {
     "name": "stdout",
     "output_type": "stream",
     "text": [
      "shape: (1, 2)\n",
      "┌──────────┬─────────────┐\n",
      "│ actor_id ┆ director_id │\n",
      "│ ---      ┆ ---         │\n",
      "│ i64      ┆ i64         │\n",
      "╞══════════╪═════════════╡\n",
      "│ 1        ┆ 1           │\n",
      "└──────────┴─────────────┘\n"
     ]
    }
   ],
   "source": [
    "def actors_and_directors(actor_director: pl.DataFrame) -> pl.DataFrame:\n",
    "    \n",
    "    # Group by 'actor_id' and 'director_id', and count the occurrences\n",
    "    freq_act = (\n",
    "        actor_director\n",
    "        .group_by(['actor_id', 'director_id'])\n",
    "        .agg(pl.col('director_id').count().alias('count'))\n",
    "    )\n",
    "    \n",
    "    # Filter the rows where the count is greater than or equal to 3\n",
    "    result = freq_act.filter(pl.col('count') >= 3).select(['actor_id', 'director_id'])\n",
    "    \n",
    "    return result\n",
    "\n",
    "# Display the result\n",
    "print(actors_and_directors(actor_director=actor_director))"
   ]
  },
  {
   "cell_type": "markdown",
   "metadata": {},
   "source": [
    "### Replace Employee ID With The Unique Identifier"
   ]
  },
  {
   "cell_type": "markdown",
   "metadata": {},
   "source": [
    "#### Question\n",
    "\n",
    "DataFrame: Employees\n",
    "\n",
    "| Column Name   | Type    |\n",
    "|:-------------:|:-------:|\n",
    "| id            | int     |\n",
    "| name          | varchar |\n",
    "\n",
    "id is the primary key (column with unique values) for this table.<br>\n",
    "Each row of this table contains the id and the name of an employee in a company.\n",
    " \n",
    "\n",
    "DataFrame: EmployeeUNI\n",
    "\n",
    "| Column Name   | Type    |\n",
    "|:-------------:|:-------:|\n",
    "| id            | int     |\n",
    "| unique_id     | int     |\n",
    "\n",
    "(id, unique_id) is the primary key (combination of columns with unique values) for this table.<br>\n",
    "Each row of this table contains the id and the corresponding unique id of an employee in the company.\n",
    " \n",
    "\n",
    "Write a solution to show the unique ID of each user, If a user does not have a unique ID replace just show null.\n",
    "\n",
    "Return the result table in any order.\n",
    "\n",
    "The result format is in the following example.\n",
    "\n",
    "Input:<br>\n",
    "Employees dataframe:\n",
    "\n",
    "| id | name     |\n",
    "|:--:|:--------:|\n",
    "| 1  | Alice    |\n",
    "| 7  | Bob      |\n",
    "| 11 | Meir     |\n",
    "| 90 | Winston  |\n",
    "| 3  | Jonathan |\n",
    "\n",
    "EmployeeUNI dataframe:\n",
    "\n",
    "| id | unique_id |\n",
    "|:--:|:---------:|\n",
    "| 3  | 1         |\n",
    "| 11 | 2         |\n",
    "| 90 | 3         |\n",
    "\n",
    "Output: \n",
    "\n",
    "| unique_id | name     |\n",
    "|:---------:|:--------:|\n",
    "| null      | Alice    |\n",
    "| null      | Bob      |\n",
    "| 2         | Meir     |\n",
    "| 3         | Winston  |\n",
    "| 1         | Jonathan |\n",
    "\n",
    "Explanation:<br>\n",
    "Alice and Bob do not have a unique ID, We will show null instead.<br>\n",
    "The unique ID of Meir is 2.<br>\n",
    "The unique ID of Winston is 3.<br>\n",
    "The unique ID of Jonathan is 1."
   ]
  },
  {
   "cell_type": "markdown",
   "metadata": {},
   "source": [
    "#### Testcase"
   ]
  },
  {
   "cell_type": "code",
   "execution_count": 50,
   "metadata": {},
   "outputs": [
    {
     "name": "stdout",
     "output_type": "stream",
     "text": [
      "employee df: shape: (5, 2)\n",
      "┌─────┬──────────┐\n",
      "│ id  ┆ name     │\n",
      "│ --- ┆ ---      │\n",
      "│ i64 ┆ str      │\n",
      "╞═════╪══════════╡\n",
      "│ 1   ┆ Alice    │\n",
      "│ 7   ┆ Bob      │\n",
      "│ 11  ┆ Meir     │\n",
      "│ 90  ┆ Winston  │\n",
      "│ 3   ┆ Jonathan │\n",
      "└─────┴──────────┘\n",
      "employee_uni df shape: (3, 2)\n",
      "┌─────┬───────────┐\n",
      "│ id  ┆ unique_id │\n",
      "│ --- ┆ ---       │\n",
      "│ i64 ┆ i64       │\n",
      "╞═════╪═══════════╡\n",
      "│ 3   ┆ 1         │\n",
      "│ 11  ┆ 2         │\n",
      "│ 90  ┆ 3         │\n",
      "└─────┴───────────┘\n"
     ]
    }
   ],
   "source": [
    "# Test data\n",
    "data_emp = [[1, 'Alice'], [7, 'Bob'], [11, 'Meir'], [90, 'Winston'], [3, 'Jonathan']]\n",
    "data_uni = [[3, 1], [11, 2], [90, 3]]\n",
    "\n",
    "\n",
    "# Create the DataFrame\n",
    "employees = pl.DataFrame(\n",
    "    data_emp,\n",
    "    schema=['id', 'name']\n",
    ")\n",
    "\n",
    "employee_uni = pl.DataFrame(\n",
    "    data_uni,\n",
    "    schema=['id', 'unique_id']\n",
    ")\n",
    "\n",
    "# Display the DataFrame\n",
    "print('employee df:', employees)\n",
    "print('employee_uni df', employee_uni)"
   ]
  },
  {
   "cell_type": "markdown",
   "metadata": {},
   "source": [
    "#### Solution"
   ]
  },
  {
   "cell_type": "code",
   "execution_count": 51,
   "metadata": {},
   "outputs": [
    {
     "name": "stdout",
     "output_type": "stream",
     "text": [
      "shape: (5, 2)\n",
      "┌───────────┬──────────┐\n",
      "│ unique_id ┆ name     │\n",
      "│ ---       ┆ ---      │\n",
      "│ i64       ┆ str      │\n",
      "╞═══════════╪══════════╡\n",
      "│ null      ┆ Alice    │\n",
      "│ null      ┆ Bob      │\n",
      "│ 2         ┆ Meir     │\n",
      "│ 3         ┆ Winston  │\n",
      "│ 1         ┆ Jonathan │\n",
      "└───────────┴──────────┘\n"
     ]
    }
   ],
   "source": [
    "def replace_employee_id(employees: pl.DataFrame, employee_uni: pl.DataFrame) -> pl.DataFrame:\n",
    "    \n",
    "    # Perform a left join on 'id' column and select 'unique_id' and 'name' columns\n",
    "    result = employees.join(employee_uni, on='id', how='left', coalesce=True).select(['unique_id', 'name'])\n",
    "    \n",
    "    return result\n",
    "\n",
    "# Display the result\n",
    "print(replace_employee_id(employees=employees, employee_uni=employee_uni))"
   ]
  },
  {
   "cell_type": "markdown",
   "metadata": {},
   "source": [
    "### Students and Examinations"
   ]
  },
  {
   "cell_type": "markdown",
   "metadata": {},
   "source": [
    "#### Question\n",
    "\n",
    "DataFrame: Students\n",
    "\n",
    "| Column Name   | Type    |\n",
    "|:-------------:|:-------:|\n",
    "| student_id    | int     |\n",
    "| student_name  | varchar |\n",
    "\n",
    "student_id is the primary key (column with unique values) for this table.<br>\n",
    "Each row of this table contains the ID and the name of one student in the school.\n",
    " \n",
    "\n",
    "Table: Subjects\n",
    "\n",
    "| Column Name  | Type    |\n",
    "|:------------:|:-------:|\n",
    "| subject_name | varchar |\n",
    "\n",
    "subject_name is the primary key (column with unique values) for this table.<br>\n",
    "Each row of this table contains the name of one subject in the school.\n",
    " \n",
    "\n",
    "Table: Examinations\n",
    "\n",
    "| Column Name  | Type    |\n",
    "|:------------:|:-------:|\n",
    "| student_id   | int     |\n",
    "| subject_name | varchar |\n",
    "\n",
    "There is no primary key (column with unique values) for this table. It may contain duplicates.<br>\n",
    "Each student from the Students table takes every course from the Subjects table.<br>\n",
    "Each row of this table indicates that a student with ID student_id attended the exam of subject_name.\n",
    "\n",
    "Write a solution to find the number of times each student attended each exam.\n",
    "\n",
    "Return the result table ordered by student_id and subject_name.\n",
    "\n",
    "The result format is in the following example.\n",
    "\n",
    "Input:<br>\n",
    "Students dataframe:\n",
    "\n",
    "| student_id | student_name |\n",
    "|:----------:|:------------:|\n",
    "| 1          | Alice        |\n",
    "| 2          | Bob          |\n",
    "| 13         | John         |\n",
    "| 6          | Alex         |\n",
    "\n",
    "Subjects dataframe:\n",
    "\n",
    "| subject_name |\n",
    "|:------------:|\n",
    "| Math         |\n",
    "| Physics      |\n",
    "| Programming  |\n",
    "\n",
    "Examinations dataframe:\n",
    "\n",
    "| student_id | subject_name |\n",
    "|:----------:|:------------:|\n",
    "| 1          | Math         |\n",
    "| 1          | Physics      |\n",
    "| 1          | Programming  |\n",
    "| 2          | Programming  |\n",
    "| 1          | Physics      |\n",
    "| 1          | Math         |\n",
    "| 13         | Math         |\n",
    "| 13         | Programming  |\n",
    "| 13         | Physics      |\n",
    "| 2          | Math         |\n",
    "| 1          | Math         |\n",
    "\n",
    "Output: \n",
    "\n",
    "| student_id | student_name | subject_name | attended_exams |\n",
    "|:----------:|:------------:|:------------:|:--------------:|\n",
    "| 1          | Alice        | Math         | 3              |\n",
    "| 1          | Alice        | Physics      | 2              |\n",
    "| 1          | Alice        | Programming  | 1              |\n",
    "| 2          | Bob          | Math         | 1              |\n",
    "| 2          | Bob          | Physics      | 0              |\n",
    "| 2          | Bob          | Programming  | 1              |\n",
    "| 6          | Alex         | Math         | 0              |\n",
    "| 6          | Alex         | Physics      | 0              |\n",
    "| 6          | Alex         | Programming  | 0              |\n",
    "| 13         | John         | Math         | 1              |\n",
    "| 13         | John         | Physics      | 1              |\n",
    "| 13         | John         | Programming  | 1              |\n",
    "\n",
    "Explanation:<br>\n",
    "The result table should contain all students and all subjects.<br>\n",
    "Alice attended the Math exam 3 times, the Physics exam 2 times, and the Programming exam 1 time.<br>\n",
    "Bob attended the Math exam 1 time, the Programming exam 1 time, and did not attend the Physics exam.<br>\n",
    "Alex did not attend any exams.<br>\n",
    "John attended the Math exam 1 time, the Physics exam 1 time, and the Programming exam 1 time."
   ]
  },
  {
   "cell_type": "markdown",
   "metadata": {},
   "source": [
    "#### Testcase"
   ]
  },
  {
   "cell_type": "code",
   "execution_count": 52,
   "metadata": {},
   "outputs": [
    {
     "name": "stdout",
     "output_type": "stream",
     "text": [
      "students df: shape: (4, 2)\n",
      "┌────────────┬──────────────┐\n",
      "│ student_id ┆ student_name │\n",
      "│ ---        ┆ ---          │\n",
      "│ i64        ┆ str          │\n",
      "╞════════════╪══════════════╡\n",
      "│ 1          ┆ Alice        │\n",
      "│ 2          ┆ Bob          │\n",
      "│ 13         ┆ John         │\n",
      "│ 6          ┆ Alex         │\n",
      "└────────────┴──────────────┘\n",
      "subjects df shape: (3, 1)\n",
      "┌──────────────┐\n",
      "│ subject_name │\n",
      "│ ---          │\n",
      "│ str          │\n",
      "╞══════════════╡\n",
      "│ Math         │\n",
      "│ Physics      │\n",
      "│ Programming  │\n",
      "└──────────────┘\n",
      "examinations df shape: (11, 2)\n",
      "┌────────────┬──────────────┐\n",
      "│ student_id ┆ subject_name │\n",
      "│ ---        ┆ ---          │\n",
      "│ i64        ┆ str          │\n",
      "╞════════════╪══════════════╡\n",
      "│ 1          ┆ Math         │\n",
      "│ 1          ┆ Physics      │\n",
      "│ 1          ┆ Programming  │\n",
      "│ 2          ┆ Programming  │\n",
      "│ 1          ┆ Physics      │\n",
      "│ …          ┆ …            │\n",
      "│ 13         ┆ Math         │\n",
      "│ 13         ┆ Programming  │\n",
      "│ 13         ┆ Physics      │\n",
      "│ 2          ┆ Math         │\n",
      "│ 1          ┆ Math         │\n",
      "└────────────┴──────────────┘\n"
     ]
    }
   ],
   "source": [
    "# Test data\n",
    "data_stu = [[1, 'Alice'], [2, 'Bob'], [13, 'John'], [6, 'Alex']]\n",
    "data_sub = [['Math'], ['Physics'], ['Programming']]\n",
    "data_ex = [[1, 'Math'], [1, 'Physics'], [1, 'Programming'], [2, 'Programming'], [1, 'Physics'], [1, 'Math'], [13, 'Math'], [13, 'Programming'], [13, 'Physics'], [2, 'Math'], [1, 'Math']]\n",
    "\n",
    "\n",
    "# Create the DataFrame\n",
    "students = pl.DataFrame(\n",
    "    data_stu,\n",
    "    schema=['student_id', 'student_name']\n",
    ")\n",
    "\n",
    "subjects = pl.DataFrame(\n",
    "    data_sub,\n",
    "    schema=['subject_name']\n",
    ")\n",
    "\n",
    "examinations = pl.DataFrame(\n",
    "    data_ex,\n",
    "    schema=['student_id', 'subject_name']\n",
    ")\n",
    "\n",
    "# Display the DataFrame\n",
    "print('students df:', students)\n",
    "print('subjects df', subjects)\n",
    "print('examinations df', examinations)"
   ]
  },
  {
   "cell_type": "markdown",
   "metadata": {},
   "source": [
    "#### Solution"
   ]
  },
  {
   "cell_type": "code",
   "execution_count": 54,
   "metadata": {},
   "outputs": [
    {
     "name": "stdout",
     "output_type": "stream",
     "text": [
      "shape: (12, 4)\n",
      "┌────────────┬──────────────┬──────────────┬────────────────┐\n",
      "│ student_id ┆ student_name ┆ subject_name ┆ attended_exams │\n",
      "│ ---        ┆ ---          ┆ ---          ┆ ---            │\n",
      "│ i64        ┆ str          ┆ str          ┆ i64            │\n",
      "╞════════════╪══════════════╪══════════════╪════════════════╡\n",
      "│ 1          ┆ Alice        ┆ Math         ┆ 3              │\n",
      "│ 1          ┆ Alice        ┆ Physics      ┆ 2              │\n",
      "│ 1          ┆ Alice        ┆ Programming  ┆ 1              │\n",
      "│ 2          ┆ Bob          ┆ Math         ┆ 1              │\n",
      "│ 2          ┆ Bob          ┆ Physics      ┆ 0              │\n",
      "│ …          ┆ …            ┆ …            ┆ …              │\n",
      "│ 6          ┆ Alex         ┆ Physics      ┆ 0              │\n",
      "│ 6          ┆ Alex         ┆ Programming  ┆ 0              │\n",
      "│ 13         ┆ John         ┆ Math         ┆ 1              │\n",
      "│ 13         ┆ John         ┆ Physics      ┆ 1              │\n",
      "│ 13         ┆ John         ┆ Programming  ┆ 1              │\n",
      "└────────────┴──────────────┴──────────────┴────────────────┘\n"
     ]
    }
   ],
   "source": [
    "def students_and_examinations(students: pl.DataFrame, subjects: pl.DataFrame, examinations: pl.DataFrame) -> pl.DataFrame:\n",
    "    \n",
    "    # Perform a cross join to get all combinations of students and subjects\n",
    "    cartesian_product = students.join(subjects, how='cross')\n",
    "    \n",
    "    # Group by 'student_id' and 'subject_name', and count the number of attended exams for each student and subject\n",
    "    exam_counts = (\n",
    "        examinations\n",
    "        .group_by(['student_id', 'subject_name'])\n",
    "        .agg(pl.col('student_id').count().alias('attended_exams'))\n",
    "    )\n",
    "\n",
    "    # Perform a left join to retain all combinations of students and subjects, and fill missing values with 0\n",
    "    result = cartesian_product.join(exam_counts, on=['student_id', 'subject_name'], how='left', coalesce=True).fill_null(0)\n",
    "\n",
    "    return result.sort(['student_id', 'subject_name'])\n",
    "\n",
    "# Display the result\n",
    "print(students_and_examinations(students=students, subjects=subjects, examinations=examinations))"
   ]
  },
  {
   "cell_type": "markdown",
   "metadata": {},
   "source": [
    "### Managers with at Least 5 Direct Reports"
   ]
  },
  {
   "cell_type": "markdown",
   "metadata": {},
   "source": [
    "#### Question\n",
    "\n",
    "DataFrame: Employee\n",
    "\n",
    "| Column Name | Type    |\n",
    "|:-----------:|:-------:|\n",
    "| id          | int     |\n",
    "| name        | varchar |\n",
    "| department  | varchar |\n",
    "| managerId   | int     |\n",
    "\n",
    "id is the primary key (column with unique values) for this table.<br>\n",
    "Each row of this table indicates the name of an employee, their department, and the id of their manager.<br>\n",
    "If managerId is null, then the employee does not have a manager.<br>\n",
    "No employee will be the manager of themself.\n",
    " \n",
    "\n",
    "Write a solution to find managers with at least five direct reports.\n",
    "\n",
    "Return the result table in any order.\n",
    "\n",
    "The result format is in the following example.\n",
    "\n",
    "Input:<br>\n",
    "Employee dataframe:\n",
    "\n",
    "| id  | name  | department | managerId |\n",
    "|:---:|:-----:|:----------:|:---------:|\n",
    "| 101 | John  | A          | null      |\n",
    "| 102 | Dan   | A          | 101       |\n",
    "| 103 | James | A          | 101       |\n",
    "| 104 | Amy   | A          | 101       |\n",
    "| 105 | Anne  | A          | 101       |\n",
    "| 106 | Ron   | B          | 101       |\n",
    "\n",
    "Output: \n",
    "\n",
    "| name |\n",
    "|:----:|\n",
    "| John |"
   ]
  },
  {
   "cell_type": "markdown",
   "metadata": {},
   "source": [
    "#### Testcase"
   ]
  },
  {
   "cell_type": "code",
   "execution_count": 55,
   "metadata": {},
   "outputs": [
    {
     "name": "stdout",
     "output_type": "stream",
     "text": [
      "shape: (6, 4)\n",
      "┌─────┬───────┬────────────┬───────────┐\n",
      "│ id  ┆ name  ┆ department ┆ managerId │\n",
      "│ --- ┆ ---   ┆ ---        ┆ ---       │\n",
      "│ i64 ┆ str   ┆ str        ┆ i64       │\n",
      "╞═════╪═══════╪════════════╪═══════════╡\n",
      "│ 101 ┆ John  ┆ A          ┆ null      │\n",
      "│ 102 ┆ Dan   ┆ A          ┆ 101       │\n",
      "│ 103 ┆ James ┆ A          ┆ 101       │\n",
      "│ 104 ┆ Amy   ┆ A          ┆ 101       │\n",
      "│ 105 ┆ Anne  ┆ A          ┆ 101       │\n",
      "│ 106 ┆ Ron   ┆ B          ┆ 101       │\n",
      "└─────┴───────┴────────────┴───────────┘\n"
     ]
    }
   ],
   "source": [
    "# Test data\n",
    "data = [[101, 'John', 'A', None], [102, 'Dan', 'A', 101], [103, 'James', 'A', 101], [104, 'Amy', 'A', 101], [105, 'Anne', 'A', 101], [106, 'Ron', 'B', 101]]\n",
    "\n",
    "# Create the DataFrame\n",
    "employee = pl.DataFrame(\n",
    "    data,\n",
    "    schema=['id', 'name', 'department', 'managerId']\n",
    ")\n",
    "\n",
    "# Display the DataFrame\n",
    "print(employee)"
   ]
  },
  {
   "cell_type": "markdown",
   "metadata": {},
   "source": [
    "#### Solution"
   ]
  },
  {
   "cell_type": "code",
   "execution_count": 56,
   "metadata": {},
   "outputs": [
    {
     "name": "stdout",
     "output_type": "stream",
     "text": [
      "shape: (1, 1)\n",
      "┌──────┐\n",
      "│ name │\n",
      "│ ---  │\n",
      "│ str  │\n",
      "╞══════╡\n",
      "│ John │\n",
      "└──────┘\n"
     ]
    }
   ],
   "source": [
    "def find_managers(employee: pl.DataFrame) -> pl.DataFrame:\n",
    "    \n",
    "    # Group by 'managerId' and count the number of direct reports\n",
    "    direct_reports_count = (\n",
    "        employee\n",
    "        .group_by('managerId')\n",
    "        .agg(pl.col('id').count().alias('report_count'))\n",
    "    )\n",
    "\n",
    "    # Filter managers with five or more direct reports\n",
    "    managers_with_five_reports = direct_reports_count.filter(pl.col('report_count') >= 5)\n",
    "\n",
    "    # Perform an inner join between filtered managers and employee DataFrame to get manager details\n",
    "    manager = (\n",
    "        managers_with_five_reports\n",
    "        .join(employee, left_on='managerId', right_on='id')\n",
    "    )\n",
    "\n",
    "    # Select only the 'name' column\n",
    "    result = manager.select('name')\n",
    "\n",
    "    return result\n",
    "\n",
    "# Display the result\n",
    "print(find_managers(employee=employee))"
   ]
  },
  {
   "cell_type": "markdown",
   "metadata": {},
   "source": [
    "### Sales Person"
   ]
  },
  {
   "cell_type": "markdown",
   "metadata": {},
   "source": [
    "#### Question\n",
    "\n",
    "DataFrame: SalesPerson\n",
    "\n",
    "| Column Name     | Type    |\n",
    "|:---------------:|:-------:|\n",
    "| sales_id        | int     |\n",
    "| name            | varchar |\n",
    "| salary          | int     |\n",
    "| commission_rate | int     |\n",
    "| hire_date       | date    |\n",
    "\n",
    "sales_id is the primary key (column with unique values) for this table.<br>\n",
    "Each row of this table indicates the name and the ID of a salesperson alongside their salary, commission rate, and hire date.\n",
    " \n",
    "\n",
    "DataFrame: Company\n",
    "\n",
    "| Column Name | Type    |\n",
    "|:-----------:|:-------:|\n",
    "| com_id      | int     |\n",
    "| name        | varchar |\n",
    "| city        | varchar |\n",
    "\n",
    "com_id is the primary key (column with unique values) for this table.<br>\n",
    "Each row of this table indicates the name and the ID of a company and the city in which the company is located.\n",
    " \n",
    "\n",
    "DataFrame: Orders\n",
    "\n",
    "| Column Name | Type |\n",
    "|:-----------:|:----:|\n",
    "| order_id    | int  |\n",
    "| order_date  | date |\n",
    "| com_id      | int  |\n",
    "| sales_id    | int  |\n",
    "| amount      | int  |\n",
    "\n",
    "order_id is the primary key (column with unique values) for this table.<br>\n",
    "com_id is a foreign key (reference column) to com_id from the Company table.<br>\n",
    "sales_id is a foreign key (reference column) to sales_id from the SalesPerson table.<br>\n",
    "Each row of this table contains information about one order. This includes the ID of the company, the ID of the salesperson, the date of the order, and the amount paid.\n",
    "\n",
    "\n",
    "Write a solution to find the names of all the salespersons who did not have any orders related to the company with the name \"RED\".\n",
    "\n",
    "Return the result table in any order.\n",
    "\n",
    "The result format is in the following example.\n",
    "\n",
    "Input:<br>\n",
    "SalesPerson dataframe:\n",
    "\n",
    "| sales_id | name | salary | commission_rate | hire_date  |\n",
    "|:--------:|:----:|:------:|:---------------:|:----------:|\n",
    "| 1        | John | 100000 | 6               | 4/1/2006   |\n",
    "| 2        | Amy  | 12000  | 5               | 5/1/2010   |\n",
    "| 3        | Mark | 65000  | 12              | 12/25/2008 |\n",
    "| 4        | Pam  | 25000  | 25              | 1/1/2005   |\n",
    "| 5        | Alex | 5000   | 10              | 2/3/2007   |\n",
    "\n",
    "Company dataframe:\n",
    "\n",
    "| com_id | name   | city     |\n",
    "|:------:|:------:|:--------:|\n",
    "| 1      | RED    | Boston   |\n",
    "| 2      | ORANGE | New York |\n",
    "| 3      | YELLOW | Boston   |\n",
    "| 4      | GREEN  | Austin   |\n",
    "\n",
    "Orders dataframe:\n",
    "\n",
    "| order_id | order_date | com_id | sales_id | amount |\n",
    "|:--------:|:----------:|:------:|:--------:|:------:|\n",
    "| 1        | 1/1/2014   | 3      | 4        | 10000  |\n",
    "| 2        | 2/1/2014   | 4      | 5        | 5000   |\n",
    "| 3        | 3/1/2014   | 1      | 1        | 50000  |\n",
    "| 4        | 4/1/2014   | 1      | 4        | 25000  |\n",
    "\n",
    "Output: \n",
    "\n",
    "| name |\n",
    "|:----:|\n",
    "| Amy  |\n",
    "| Mark |\n",
    "| Alex |\n",
    "\n",
    "Explanation:<br>\n",
    "According to orders 3 and 4 in the Orders table, it is easy to tell that only salesperson John and Pam have sales to company RED, so we report all the other names in the table salesperson."
   ]
  },
  {
   "cell_type": "markdown",
   "metadata": {},
   "source": [
    "#### Testcase"
   ]
  },
  {
   "cell_type": "code",
   "execution_count": 57,
   "metadata": {},
   "outputs": [
    {
     "name": "stdout",
     "output_type": "stream",
     "text": [
      "sales_person df: <function sales_person at 0x11c6f6f20>\n",
      "company df shape: (4, 3)\n",
      "┌────────┬────────┬──────────┐\n",
      "│ com_id ┆ name   ┆ city     │\n",
      "│ ---    ┆ ---    ┆ ---      │\n",
      "│ i64    ┆ str    ┆ str      │\n",
      "╞════════╪════════╪══════════╡\n",
      "│ 1      ┆ RED    ┆ Boston   │\n",
      "│ 2      ┆ ORANGE ┆ New York │\n",
      "│ 3      ┆ YELLOW ┆ Boston   │\n",
      "│ 4      ┆ GREEN  ┆ Austin   │\n",
      "└────────┴────────┴──────────┘\n",
      "orders df shape: (4, 5)\n",
      "┌──────────┬────────────┬────────┬──────────┬────────┐\n",
      "│ order_id ┆ order_date ┆ com_id ┆ sales_id ┆ amount │\n",
      "│ ---      ┆ ---        ┆ ---    ┆ ---      ┆ ---    │\n",
      "│ i64      ┆ str        ┆ i64    ┆ i64      ┆ i64    │\n",
      "╞══════════╪════════════╪════════╪══════════╪════════╡\n",
      "│ 1        ┆ 1/1/2014   ┆ 3      ┆ 4        ┆ 10000  │\n",
      "│ 2        ┆ 2/1/2014   ┆ 4      ┆ 5        ┆ 5000   │\n",
      "│ 3        ┆ 3/1/2014   ┆ 1      ┆ 1        ┆ 50000  │\n",
      "│ 4        ┆ 4/1/2014   ┆ 1      ┆ 4        ┆ 25000  │\n",
      "└──────────┴────────────┴────────┴──────────┴────────┘\n"
     ]
    }
   ],
   "source": [
    "# Test data\n",
    "data_sp = [[1, 'John', 100000, 6, '4/1/2006'], [2, 'Amy', 12000, 5, '5/1/2010'], [3, 'Mark', 65000, 12, '12/25/2008'], [4, 'Pam', 25000, 25, '1/1/2005'], [5, 'Alex', 5000, 10, '2/3/2007']]\n",
    "data_company = [[1, 'RED', 'Boston'], [2, 'ORANGE', 'New York'], [3, 'YELLOW', 'Boston'], [4, 'GREEN', 'Austin']]\n",
    "data_orders = [[1, '1/1/2014', 3, 4, 10000], [2, '2/1/2014', 4, 5, 5000], [3, '3/1/2014', 1, 1, 50000], [4, '4/1/2014', 1, 4, 25000]]\n",
    "\n",
    "\n",
    "# Create the DataFrame\n",
    "sales_personnel = pl.DataFrame(\n",
    "    data_sp,\n",
    "    schema=['sales_id', 'name', 'salary', 'commission_rate', 'hire_date']\n",
    ")\n",
    "\n",
    "company = pl.DataFrame(\n",
    "    data_company,\n",
    "    schema=['com_id', 'name', 'city']\n",
    ")\n",
    "\n",
    "orders = pl.DataFrame(\n",
    "    data_orders,\n",
    "    schema=['order_id', 'order_date', 'com_id', 'sales_id', 'amount']\n",
    ")\n",
    "\n",
    "# Display the DataFrame\n",
    "print('sales_person df:', sales_person)\n",
    "print('company df', company)\n",
    "print('orders df', orders)"
   ]
  },
  {
   "cell_type": "markdown",
   "metadata": {},
   "source": [
    "### Solution"
   ]
  },
  {
   "cell_type": "code",
   "execution_count": 58,
   "metadata": {},
   "outputs": [
    {
     "name": "stdout",
     "output_type": "stream",
     "text": [
      "shape: (3, 1)\n",
      "┌──────┐\n",
      "│ name │\n",
      "│ ---  │\n",
      "│ str  │\n",
      "╞══════╡\n",
      "│ Amy  │\n",
      "│ Mark │\n",
      "│ Alex │\n",
      "└──────┘\n"
     ]
    }
   ],
   "source": [
    "def sales_person(sales_personnel: pl.DataFrame, company: pl.DataFrame, orders: pl.DataFrame) -> pl.DataFrame:\n",
    "    \n",
    "    # Merge DataFrames to find salespersons with orders related to \"RED\" companies\n",
    "    merged_df = orders.join(company, on='com_id')\n",
    "    red_sales_ids = merged_df.filter(pl.col('name') == 'RED')['sales_id'].unique()\n",
    "\n",
    "    # Filter salespersons who do not have orders related to \"RED\" companies\n",
    "    result = sales_personnel.filter(~pl.col('sales_id').is_in(red_sales_ids)).select('name')\n",
    "    \n",
    "    return result\n",
    "\n",
    "# Display the result\n",
    "print(sales_person(sales_personnel=sales_personnel, company=company, orders=orders))\n"
   ]
  }
 ],
 "metadata": {
  "kernelspec": {
   "display_name": "polars_exercises_env",
   "language": "python",
   "name": "python3"
  },
  "language_info": {
   "codemirror_mode": {
    "name": "ipython",
    "version": 3
   },
   "file_extension": ".py",
   "mimetype": "text/x-python",
   "name": "python",
   "nbconvert_exporter": "python",
   "pygments_lexer": "ipython3",
   "version": "3.11.2"
  }
 },
 "nbformat": 4,
 "nbformat_minor": 2
}
