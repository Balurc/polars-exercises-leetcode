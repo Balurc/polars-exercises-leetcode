{
 "cells": [
  {
   "cell_type": "code",
   "execution_count": 1,
   "metadata": {},
   "outputs": [
    {
     "name": "stdout",
     "output_type": "stream",
     "text": [
      "0.20.31\n"
     ]
    }
   ],
   "source": [
    "import polars as pl\n",
    "print(pl.__version__)"
   ]
  },
  {
   "cell_type": "markdown",
   "metadata": {},
   "source": [
    "### Big Countries"
   ]
  },
  {
   "cell_type": "markdown",
   "metadata": {},
   "source": [
    "#### Question:\n",
    "\n",
    "DataFrame: World\n",
    "\n",
    "| Column Name | Type    |\n",
    "|:-----------:|:-------:|\n",
    "| name        | varchar |\n",
    "| continent   | varchar |\n",
    "| area        | int     |\n",
    "| population  | int     |\n",
    "| gdp         | bigint  |\n",
    "\n",
    "\n",
    "name is the primary key (column with unique values) for this table.<br>\n",
    "Each row of this table gives information about the name of a country, the continent to which it belongs, its area, the population, and its GDP value.\n",
    "\n",
    "\n",
    "A country is big if:\n",
    "\n",
    "- it has an area of at least three million (i.e., 3000000 km2), or\n",
    "- it has a population of at least twenty-five million (i.e., 25000000).\n",
    "\n",
    "Write a solution to find the name, population, and area of the big countries.\n",
    "\n",
    "Return the result table in any order. The result format is in the following example.\n",
    "\n",
    "Input:<br>\n",
    "\n",
    "world DataFrame:\n",
    "\n",
    "| name        | continent | area    | population | gdp          |\n",
    "|:-----------:|:---------:|:-------:|:----------:|:------------:|\n",
    "| Afghanistan | Asia      | 652230  | 25500100   | 20343000000  |\n",
    "| Albania     | Europe    | 28748   | 2831741    | 12960000000  |\n",
    "| Algeria     | Africa    | 2381741 | 37100000   | 188681000000 |\n",
    "| Andorra     | Europe    | 468     | 78115      | 3712000000   |\n",
    "| Angola      | Africa    | 1246700 | 20609294   | 100990000000 |\n",
    "\n",
    "Output: \n",
    "| name        | population | area    |\n",
    "|:----------:|:----------:|--------:|\n",
    "| Afghanistan | 25500100   | 652230  |\n",
    "| Algeria     | 37100000   | 2381741 |\n"
   ]
  },
  {
   "cell_type": "markdown",
   "metadata": {},
   "source": [
    "#### Testcase"
   ]
  },
  {
   "cell_type": "code",
   "execution_count": 2,
   "metadata": {},
   "outputs": [
    {
     "name": "stdout",
     "output_type": "stream",
     "text": [
      "shape: (5, 5)\n",
      "┌─────────────┬───────────┬─────────┬────────────┬──────────────┐\n",
      "│ name        ┆ continent ┆ area    ┆ population ┆ gdp          │\n",
      "│ ---         ┆ ---       ┆ ---     ┆ ---        ┆ ---          │\n",
      "│ str         ┆ str       ┆ i64     ┆ i64        ┆ i64          │\n",
      "╞═════════════╪═══════════╪═════════╪════════════╪══════════════╡\n",
      "│ Afghanistan ┆ Asia      ┆ 652230  ┆ 25500100   ┆ 20343000000  │\n",
      "│ Albania     ┆ Europe    ┆ 28748   ┆ 2831741    ┆ 12960000000  │\n",
      "│ Algeria     ┆ Africa    ┆ 2381741 ┆ 37100000   ┆ 188681000000 │\n",
      "│ Andorra     ┆ Europe    ┆ 468     ┆ 78115      ┆ 3712000000   │\n",
      "│ Angola      ┆ Africa    ┆ 1246700 ┆ 20609294   ┆ 100990000000 │\n",
      "└─────────────┴───────────┴─────────┴────────────┴──────────────┘\n"
     ]
    }
   ],
   "source": [
    "# Test data\n",
    "data = [['Afghanistan', 'Asia', 652230, 25500100, 20343000000], \n",
    "        ['Albania', 'Europe', 28748, 2831741, 12960000000], \n",
    "        ['Algeria', 'Africa', 2381741, 37100000, 188681000000], \n",
    "        ['Andorra', 'Europe', 468, 78115, 3712000000], \n",
    "        ['Angola', 'Africa', 1246700, 20609294, 100990000000]]\n",
    "\n",
    "# Create the DataFrame\n",
    "world = pl.DataFrame(\n",
    "    data,\n",
    "    schema=['name', 'continent', 'area', 'population', 'gdp']\n",
    ")\n",
    "\n",
    "# Display the DataFrame\n",
    "print(world)"
   ]
  },
  {
   "cell_type": "markdown",
   "metadata": {},
   "source": [
    "#### Solution"
   ]
  },
  {
   "cell_type": "code",
   "execution_count": 3,
   "metadata": {},
   "outputs": [
    {
     "name": "stdout",
     "output_type": "stream",
     "text": [
      "shape: (2, 3)\n",
      "┌─────────────┬────────────┬─────────┐\n",
      "│ name        ┆ population ┆ area    │\n",
      "│ ---         ┆ ---        ┆ ---     │\n",
      "│ str         ┆ i64        ┆ i64     │\n",
      "╞═════════════╪════════════╪═════════╡\n",
      "│ Afghanistan ┆ 25500100   ┆ 652230  │\n",
      "│ Algeria     ┆ 37100000   ┆ 2381741 │\n",
      "└─────────────┴────────────┴─────────┘\n"
     ]
    }
   ],
   "source": [
    "def big_countries(world: pl.DataFrame, area: int, population: int) -> pl.DataFrame:\n",
    "    df = world.filter(\n",
    "        (pl.col('area') >= area) | (pl.col('population') >= population)\n",
    "        )\n",
    "    return df.select(['name', 'population', 'area'])\n",
    "\n",
    "# Display the result\n",
    "print(big_countries(world=world, area=3000000, population=25000000))"
   ]
  },
  {
   "cell_type": "markdown",
   "metadata": {},
   "source": [
    "### Recyclable and Low Fat Products"
   ]
  },
  {
   "cell_type": "markdown",
   "metadata": {},
   "source": [
    "#### Question"
   ]
  },
  {
   "cell_type": "markdown",
   "metadata": {},
   "source": [
    "DataFrame: Products\n",
    "\n",
    "| Column Name | Type    |\n",
    "|:-----------:|:-------:|\n",
    "| product_id  | int     |\n",
    "| low_fats    | enum    |\n",
    "| recyclable  | enum    |\n",
    "\n",
    "product_id is the primary key (column with unique values) for this table.<br>\n",
    "low_fats is an ENUM (category) of type ('Y', 'N') where 'Y' means this product is low fat and 'N' means it is not.<br>\n",
    "recyclable is an ENUM (category) of types ('Y', 'N') where 'Y' means this product is recyclable and 'N' means it is not.\n",
    " \n",
    "\n",
    "Write a solution to find the ids of products that are both low fat and recyclable.\n",
    "\n",
    "Return the result table in any order. The result format is in the following example.\n",
    "\n",
    "Input:<br>\n",
    "\n",
    "products DataFrame:\n",
    "\n",
    "| product_id  | low_fats | recyclable |\n",
    "|:-----------:|:--------:|:----------:|\n",
    "| 0           | Y        | N          |\n",
    "| 1           | Y        | Y          |\n",
    "| 2           | N        | Y          |\n",
    "| 3           | Y        | Y          |\n",
    "| 4           | N        | N          |\n",
    "\n",
    "Output: \n",
    "\n",
    "| product_id  |\n",
    "|:-----------:|\n",
    "| 1           |\n",
    "| 3           |\n",
    "\n",
    "Explanation: Only products 1 and 3 are both low fat and recyclable."
   ]
  },
  {
   "cell_type": "markdown",
   "metadata": {},
   "source": [
    "#### Testcase"
   ]
  },
  {
   "cell_type": "code",
   "execution_count": 4,
   "metadata": {},
   "outputs": [
    {
     "name": "stdout",
     "output_type": "stream",
     "text": [
      "shape: (5, 3)\n",
      "┌────────────┬──────────┬────────────┐\n",
      "│ product_id ┆ low_fats ┆ recyclable │\n",
      "│ ---        ┆ ---      ┆ ---        │\n",
      "│ str        ┆ str      ┆ str        │\n",
      "╞════════════╪══════════╪════════════╡\n",
      "│ 0          ┆ Y        ┆ N          │\n",
      "│ 1          ┆ Y        ┆ Y          │\n",
      "│ 2          ┆ N        ┆ Y          │\n",
      "│ 3          ┆ Y        ┆ Y          │\n",
      "│ 4          ┆ N        ┆ N          │\n",
      "└────────────┴──────────┴────────────┘\n"
     ]
    }
   ],
   "source": [
    "# Test data\n",
    "data = [['0', 'Y', 'N'], ['1', 'Y', 'Y'], ['2', 'N', 'Y'], ['3', 'Y', 'Y'], ['4', 'N', 'N']]\n",
    "\n",
    "# Create the DataFrame\n",
    "products = pl.DataFrame(\n",
    "    data,\n",
    "    schema=['product_id', 'low_fats', 'recyclable']\n",
    ")\n",
    "\n",
    "# Display the DataFrame\n",
    "print(products)"
   ]
  },
  {
   "cell_type": "markdown",
   "metadata": {},
   "source": [
    "#### Solution"
   ]
  },
  {
   "cell_type": "code",
   "execution_count": 5,
   "metadata": {},
   "outputs": [
    {
     "name": "stdout",
     "output_type": "stream",
     "text": [
      "shape: (2, 1)\n",
      "┌────────────┐\n",
      "│ product_id │\n",
      "│ ---        │\n",
      "│ str        │\n",
      "╞════════════╡\n",
      "│ 1          │\n",
      "│ 3          │\n",
      "└────────────┘\n"
     ]
    }
   ],
   "source": [
    "def find_products(products: pl.DataFrame, low_fats: str, recyclable: str) -> pl.DataFrame:\n",
    "    df = products.filter(\n",
    "        (pl.col('low_fats') == low_fats) & (pl.col('recyclable') == recyclable)\n",
    "        )\n",
    "    return df.select(['product_id'])\n",
    "\n",
    "\n",
    "# Display the result\n",
    "print(find_products(products=products, low_fats=\"Y\", recyclable=\"Y\"))"
   ]
  },
  {
   "cell_type": "markdown",
   "metadata": {},
   "source": [
    "### Customers Who Never Order"
   ]
  },
  {
   "cell_type": "markdown",
   "metadata": {},
   "source": [
    "#### Question"
   ]
  },
  {
   "cell_type": "markdown",
   "metadata": {},
   "source": [
    "DataFrame: customers\n",
    "\n",
    "| Column Name | Type    |\n",
    "|:-----------:|:-------:|\n",
    "| id          | int     |\n",
    "| name        | varchar |\n",
    "\n",
    "id is the primary key (column with unique values) for this table.<br>\n",
    "Each row of this DataFrame indicates the ID and name of a customer.\n",
    " \n",
    "\n",
    "DataFrame: orders\n",
    "\n",
    "| Column Name | Type |\n",
    "|:-----------:|:----:|\n",
    "| id          | int  |\n",
    "| customerId  | int  |\n",
    "\n",
    "id is the primary key (column with unique values) for this table.<br>\n",
    "customerId is a foreign key (reference columns) of the ID from the Customers table.<br>\n",
    "Each row of this table indicates the ID of an order and the ID of the customer who ordered it.\n",
    "\n",
    "\n",
    "Write a solution to find all customers who never order anything.\n",
    "\n",
    "Return the result table in any order.\n",
    "\n",
    "The result format is in the following example.\n",
    "\n",
    "Input:<br>\n",
    "\n",
    "customers DataFrame:\n",
    "\n",
    "| id | name  |\n",
    "|:--:|:-----:|\n",
    "| 1  | Joe   |\n",
    "| 2  | Henry |\n",
    "| 3  | Sam   |\n",
    "| 4  | Max   |\n",
    "\n",
    "orders DataFrame:\n",
    "\n",
    "| id | customerId |\n",
    "|:--:|:----------:|\n",
    "| 1  | 3          |\n",
    "| 2  | 1          |\n",
    "\n",
    "Output: \n",
    "\n",
    "| Customers |\n",
    "|:---------:|\n",
    "| Henry     |\n",
    "| Max       |"
   ]
  },
  {
   "cell_type": "markdown",
   "metadata": {},
   "source": [
    "#### Testcase"
   ]
  },
  {
   "cell_type": "code",
   "execution_count": 7,
   "metadata": {},
   "outputs": [
    {
     "name": "stdout",
     "output_type": "stream",
     "text": [
      "customers df: shape: (4, 2)\n",
      "┌─────┬───────┐\n",
      "│ id  ┆ name  │\n",
      "│ --- ┆ ---   │\n",
      "│ i64 ┆ str   │\n",
      "╞═════╪═══════╡\n",
      "│ 1   ┆ Joe   │\n",
      "│ 2   ┆ Henry │\n",
      "│ 3   ┆ Sam   │\n",
      "│ 4   ┆ Max   │\n",
      "└─────┴───────┘\n",
      "orders df shape: (2, 2)\n",
      "┌─────┬────────────┐\n",
      "│ id  ┆ customerId │\n",
      "│ --- ┆ ---        │\n",
      "│ i64 ┆ i64        │\n",
      "╞═════╪════════════╡\n",
      "│ 1   ┆ 3          │\n",
      "│ 2   ┆ 1          │\n",
      "└─────┴────────────┘\n"
     ]
    }
   ],
   "source": [
    "# Test data\n",
    "customers_data = [[1, 'Joe'], [2, 'Henry'], [3, 'Sam'], [4, 'Max']]\n",
    "orders_data = [[1,2], [3, 1]]\n",
    "\n",
    "# Create the DataFrame\n",
    "customers = pl.DataFrame(\n",
    "    customers_data,\n",
    "    schema=['id', 'name']\n",
    ")\n",
    "\n",
    "orders = pl.DataFrame(\n",
    "    orders_data,\n",
    "    schema=['id', 'customerId']\n",
    ")\n",
    "\n",
    "# Display the DataFrame\n",
    "print('customers df:',customers)\n",
    "print('orders df', orders)"
   ]
  },
  {
   "cell_type": "markdown",
   "metadata": {},
   "source": [
    "#### Solution"
   ]
  },
  {
   "cell_type": "code",
   "execution_count": 8,
   "metadata": {},
   "outputs": [
    {
     "name": "stdout",
     "output_type": "stream",
     "text": [
      "shape: (2, 1)\n",
      "┌───────────┐\n",
      "│ Customers │\n",
      "│ ---       │\n",
      "│ str       │\n",
      "╞═══════════╡\n",
      "│ Henry     │\n",
      "│ Max       │\n",
      "└───────────┘\n"
     ]
    }
   ],
   "source": [
    "def find_customers(customers: pl.DataFrame, orders: pl.DataFrame) -> pl.DataFrame:\n",
    "    df = customers.filter(\n",
    "        ~pl.col(\"id\").is_in(orders.select(['customerId']))\n",
    "        )\n",
    "    return df.select(['name']).rename({'name': 'Customers'})\n",
    "\n",
    "\n",
    "# Display the result\n",
    "print(find_customers(customers=customers, orders=orders))"
   ]
  },
  {
   "cell_type": "markdown",
   "metadata": {},
   "source": [
    "### Article Views I"
   ]
  },
  {
   "cell_type": "markdown",
   "metadata": {},
   "source": [
    "#### Question"
   ]
  },
  {
   "cell_type": "markdown",
   "metadata": {},
   "source": [
    "DataFrame: views\n",
    "\n",
    "| Column Name   | Type    |\n",
    "|:-------------:|:-------:|\n",
    "| article_id    | int     |\n",
    "| author_id     | int     |\n",
    "| viewer_id     | int     |\n",
    "| view_date     | date    |\n",
    "\n",
    "There is no primary key (column with unique values) for this table, the table may have duplicate rows.<br>\n",
    "Each row of this table indicates that some viewer viewed an article (written by some author) on some date.<br> \n",
    "Note that equal author_id and viewer_id indicate the same person.\n",
    " \n",
    "\n",
    "Write a solution to find all the authors that viewed at least one of their own articles.\n",
    "\n",
    "Return the result table sorted by `id` in ascending order.\n",
    "\n",
    "The result format is in the following example.\n",
    "\n",
    "Input:<br>\n",
    "\n",
    "views DataFrame:\n",
    "\n",
    "| article_id | author_id | viewer_id | view_date  |\n",
    "|:----------:|:---------:|:----------|:----------:|\n",
    "| 1          | 3         | 5         | 2019-08-01 |\n",
    "| 1          | 3         | 6         | 2019-08-02 |\n",
    "| 2          | 7         | 7         | 2019-08-01 |\n",
    "| 2          | 7         | 6         | 2019-08-02 |\n",
    "| 4          | 7         | 1         | 2019-07-22 |\n",
    "| 3          | 4         | 4         | 2019-07-21 |\n",
    "| 3          | 4         | 4         | 2019-07-21 |\n",
    "\n",
    "Output: \n",
    "\n",
    "| id   |\n",
    "|:----:|\n",
    "| 4    |\n",
    "| 7    |"
   ]
  },
  {
   "cell_type": "markdown",
   "metadata": {},
   "source": [
    "#### Testcase"
   ]
  },
  {
   "cell_type": "code",
   "execution_count": 9,
   "metadata": {},
   "outputs": [
    {
     "name": "stdout",
     "output_type": "stream",
     "text": [
      "shape: (7, 4)\n",
      "┌────────────┬───────────┬───────────┬────────────┐\n",
      "│ article_id ┆ author_id ┆ viewer_id ┆ view_date  │\n",
      "│ ---        ┆ ---       ┆ ---       ┆ ---        │\n",
      "│ i64        ┆ i64       ┆ i64       ┆ str        │\n",
      "╞════════════╪═══════════╪═══════════╪════════════╡\n",
      "│ 1          ┆ 3         ┆ 5         ┆ 2019-08-01 │\n",
      "│ 1          ┆ 3         ┆ 6         ┆ 2019-08-02 │\n",
      "│ 2          ┆ 7         ┆ 7         ┆ 2019-08-01 │\n",
      "│ 2          ┆ 7         ┆ 6         ┆ 2019-08-02 │\n",
      "│ 4          ┆ 7         ┆ 1         ┆ 2019-07-22 │\n",
      "│ 3          ┆ 4         ┆ 4         ┆ 2019-07-21 │\n",
      "│ 3          ┆ 4         ┆ 4         ┆ 2019-07-21 │\n",
      "└────────────┴───────────┴───────────┴────────────┘\n"
     ]
    }
   ],
   "source": [
    "# Test data\n",
    "data = [[1, 3, 5, '2019-08-01'], \n",
    "        [1, 3, 6, '2019-08-02'], \n",
    "        [2, 7, 7, '2019-08-01'], \n",
    "        [2, 7, 6, '2019-08-02'], \n",
    "        [4, 7, 1, '2019-07-22'], \n",
    "        [3, 4, 4, '2019-07-21'], \n",
    "        [3, 4, 4, '2019-07-21']]\n",
    "\n",
    "# Create the DataFrame\n",
    "views = pl.DataFrame(\n",
    "    data,\n",
    "    schema=['article_id', 'author_id', 'viewer_id', 'view_date']\n",
    ")\n",
    "\n",
    "# Display the DataFrame\n",
    "print(views)"
   ]
  },
  {
   "cell_type": "markdown",
   "metadata": {},
   "source": [
    "#### Solution"
   ]
  },
  {
   "cell_type": "code",
   "execution_count": 11,
   "metadata": {},
   "outputs": [
    {
     "name": "stdout",
     "output_type": "stream",
     "text": [
      "shape: (2, 1)\n",
      "┌─────┐\n",
      "│ id  │\n",
      "│ --- │\n",
      "│ i64 │\n",
      "╞═════╡\n",
      "│ 4   │\n",
      "│ 7   │\n",
      "└─────┘\n"
     ]
    }
   ],
   "source": [
    "def article_views(views: pl.DataFrame) -> pl.DataFrame:\n",
    "    df = views.filter(\n",
    "        (pl.col('author_id') == pl.col('viewer_id'))\n",
    "        )\n",
    "    return df.select(['author_id']).unique().sort('author_id').rename({'author_id': 'id'})\n",
    "\n",
    "\n",
    "# Display the result\n",
    "print(article_views(views=views))"
   ]
  }
 ],
 "metadata": {
  "kernelspec": {
   "display_name": "polars_exercises_env",
   "language": "python",
   "name": "python3"
  },
  "language_info": {
   "codemirror_mode": {
    "name": "ipython",
    "version": 3
   },
   "file_extension": ".py",
   "mimetype": "text/x-python",
   "name": "python",
   "nbconvert_exporter": "python",
   "pygments_lexer": "ipython3",
   "version": "3.11.2"
  }
 },
 "nbformat": 4,
 "nbformat_minor": 2
}
