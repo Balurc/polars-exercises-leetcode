{
 "cells": [
  {
   "cell_type": "code",
   "execution_count": 1,
   "metadata": {},
   "outputs": [
    {
     "name": "stdout",
     "output_type": "stream",
     "text": [
      "0.20.31\n"
     ]
    }
   ],
   "source": [
    "import polars as pl\n",
    "print(pl.__version__)"
   ]
  },
  {
   "cell_type": "markdown",
   "metadata": {},
   "source": [
    "### Invalid Tweets"
   ]
  },
  {
   "cell_type": "markdown",
   "metadata": {},
   "source": [
    "#### Question\n",
    "\n",
    "DataFrame: Tweets\n",
    "\n",
    "| Column Name    | Type    |\n",
    "|:--------------:|:-------:|\n",
    "| tweet_id       | int     |\n",
    "| content        | varchar |\n",
    "\n",
    "tweet_id is the primary key (column with unique values) for this table.<br>\n",
    "This table contains all the tweets in a social media app.\n",
    " \n",
    "\n",
    "Write a solution to find the IDs of the invalid tweets. The tweet is invalid if the number of characters used in the content of the tweet is strictly greater than 15.\n",
    "\n",
    "Return the result table in any order.\n",
    "\n",
    "The result format is in the following example.\n",
    "\n",
    "\n",
    "Input:<br>\n",
    "Tweets dataframe:\n",
    "\n",
    "| tweet_id | content                          |\n",
    "|:--------:|:--------------------------------:|\n",
    "| 1        | Vote for Biden                   |\n",
    "| 2        | Let us make America great again! |\n",
    "\n",
    "Output: \n",
    "\n",
    "| tweet_id |\n",
    "|:--------:|\n",
    "| 2        |\n",
    "\n",
    "Explanation:<br>\n",
    "Tweet 1 has length = 14. It is a valid tweet.<br>\n",
    "Tweet 2 has length = 32. It is an invalid tweet."
   ]
  },
  {
   "cell_type": "markdown",
   "metadata": {},
   "source": [
    "#### Testcase"
   ]
  },
  {
   "cell_type": "code",
   "execution_count": 2,
   "metadata": {},
   "outputs": [
    {
     "name": "stdout",
     "output_type": "stream",
     "text": [
      "shape: (2, 2)\n",
      "┌──────────┬─────────────────────────────────┐\n",
      "│ tweet_id ┆ content                         │\n",
      "│ ---      ┆ ---                             │\n",
      "│ i64      ┆ str                             │\n",
      "╞══════════╪═════════════════════════════════╡\n",
      "│ 1        ┆ Vote for Biden                  │\n",
      "│ 2        ┆ Let us make America great agai… │\n",
      "└──────────┴─────────────────────────────────┘\n"
     ]
    }
   ],
   "source": [
    "# Test data\n",
    "data = [[1, 'Vote for Biden'], [2, 'Let us make America great again!']]\n",
    "\n",
    "# Create the DataFrame\n",
    "tweets = pl.DataFrame(\n",
    "    data,\n",
    "    schema=['tweet_id', 'content']\n",
    ")\n",
    "\n",
    "# Display the DataFrame\n",
    "print(tweets)"
   ]
  },
  {
   "cell_type": "markdown",
   "metadata": {},
   "source": [
    "#### Solution"
   ]
  },
  {
   "cell_type": "code",
   "execution_count": 3,
   "metadata": {},
   "outputs": [
    {
     "name": "stdout",
     "output_type": "stream",
     "text": [
      "shape: (1, 1)\n",
      "┌──────────┐\n",
      "│ tweet_id │\n",
      "│ ---      │\n",
      "│ i64      │\n",
      "╞══════════╡\n",
      "│ 2        │\n",
      "└──────────┘\n"
     ]
    }
   ],
   "source": [
    "def invalid_tweets(tweets: pl.DataFrame, n_chars: int = 15) -> pl.DataFrame:\n",
    "    df = tweets.filter(pl.col('content').str.len_chars() > n_chars)\n",
    "    return df.select('tweet_id')\n",
    "\n",
    "# Display the result\n",
    "print(invalid_tweets(tweets=tweets))"
   ]
  },
  {
   "cell_type": "markdown",
   "metadata": {},
   "source": [
    "### Calculate Special Bonus"
   ]
  },
  {
   "cell_type": "markdown",
   "metadata": {},
   "source": [
    "#### Question\n",
    "\n",
    "DataFrame: Employees\n",
    "\n",
    "| Column Name | Type    |\n",
    "|:-----------:|:-------:|\n",
    "| employee_id | int     |\n",
    "| name        | varchar |\n",
    "| salary      | int     |\n",
    "\n",
    "employee_id is the primary key (column with unique values) for this table.<br>\n",
    "Each row of this table indicates the employee ID, employee name, and salary.\n",
    " \n",
    "\n",
    "Write a solution to calculate the bonus of each employee. The bonus of an employee is 100% of their salary if the ID of the employee is an odd number and the employee's name does not start with the character 'M'. The bonus of an employee is 0 otherwise.\n",
    "\n",
    "Return the result table ordered by employee_id.\n",
    "\n",
    "Input:<br>\n",
    "Employees dataframe:\n",
    "\n",
    "| employee_id | name    | salary |\n",
    "|:-----------:|:-------:|:------:|\n",
    "| 2           | Meir    | 3000   |\n",
    "| 3           | Michael | 3800   |\n",
    "| 7           | Addilyn | 7400   |\n",
    "| 8           | Juan    | 6100   |\n",
    "| 9           | Kannon  | 7700   |\n",
    "\n",
    "Output: \n",
    "\n",
    "| employee_id | bonus |\n",
    "|:------------|:-----:|\n",
    "| 2           | 0     |\n",
    "| 3           | 0     |\n",
    "| 7           | 7400  |\n",
    "| 8           | 0     |\n",
    "| 9           | 7700  |\n",
    "\n",
    "Explanation:<br>\n",
    "The employees with IDs 2 and 8 get 0 bonus because they have an even employee_id.<br>\n",
    "The employee with ID 3 gets 0 bonus because their name starts with 'M'.<br>\n",
    "The rest of the employees get a 100% bonus."
   ]
  },
  {
   "cell_type": "markdown",
   "metadata": {},
   "source": [
    "#### Testcase"
   ]
  },
  {
   "cell_type": "code",
   "execution_count": 4,
   "metadata": {},
   "outputs": [
    {
     "name": "stdout",
     "output_type": "stream",
     "text": [
      "shape: (5, 3)\n",
      "┌─────────────┬─────────┬────────┐\n",
      "│ employee_id ┆ name    ┆ salary │\n",
      "│ ---         ┆ ---     ┆ ---    │\n",
      "│ i64         ┆ str     ┆ i64    │\n",
      "╞═════════════╪═════════╪════════╡\n",
      "│ 2           ┆ Meir    ┆ 3000   │\n",
      "│ 3           ┆ Michael ┆ 3800   │\n",
      "│ 7           ┆ Addilyn ┆ 7400   │\n",
      "│ 8           ┆ Juan    ┆ 6100   │\n",
      "│ 9           ┆ Kannon  ┆ 7700   │\n",
      "└─────────────┴─────────┴────────┘\n"
     ]
    }
   ],
   "source": [
    "# Test data\n",
    "data = [[2, 'Meir', 3000], [3, 'Michael', 3800], [7, 'Addilyn', 7400], [8, 'Juan', 6100], [9, 'Kannon', 7700]]\n",
    "\n",
    "# Create the DataFrame\n",
    "employees = pl.DataFrame(\n",
    "    data,\n",
    "    schema=['employee_id', 'name', 'salary']\n",
    ")\n",
    "\n",
    "# Display the DataFrame\n",
    "print(employees)"
   ]
  },
  {
   "cell_type": "markdown",
   "metadata": {},
   "source": [
    "#### Solution"
   ]
  },
  {
   "cell_type": "code",
   "execution_count": 5,
   "metadata": {},
   "outputs": [
    {
     "name": "stdout",
     "output_type": "stream",
     "text": [
      "shape: (5, 2)\n",
      "┌─────────────┬───────┐\n",
      "│ employee_id ┆ bonus │\n",
      "│ ---         ┆ ---   │\n",
      "│ i64         ┆ i64   │\n",
      "╞═════════════╪═══════╡\n",
      "│ 2           ┆ 0     │\n",
      "│ 3           ┆ 0     │\n",
      "│ 7           ┆ 7400  │\n",
      "│ 8           ┆ 0     │\n",
      "│ 9           ┆ 7700  │\n",
      "└─────────────┴───────┘\n"
     ]
    }
   ],
   "source": [
    "def calculate_special_bonus(employees: pl.DataFrame) -> pl.DataFrame:\n",
    "    df = (\n",
    "    employees\n",
    "    .with_columns(\n",
    "        pl.when(\n",
    "            (pl.col('employee_id') % 2 != 0) & ~(pl.col('name').str.starts_with('M'))\n",
    "        )\n",
    "        .then(pl.col('salary'))\n",
    "        .otherwise(0)\n",
    "        .alias('bonus')\n",
    "    )\n",
    "    .sort('employee_id')\n",
    "    )\n",
    "\n",
    "    return df.select(['employee_id', 'bonus'])\n",
    "\n",
    "# Display the result\n",
    "print(calculate_special_bonus(employees=employees))"
   ]
  },
  {
   "cell_type": "markdown",
   "metadata": {},
   "source": [
    "### Fix Names in a Table"
   ]
  },
  {
   "cell_type": "markdown",
   "metadata": {},
   "source": [
    "#### Question\n",
    "\n",
    "DataFrame: Users\n",
    "\n",
    "| Column Name    | Type    |\n",
    "|:--------------:|:-------:|\n",
    "| user_id        | int     |\n",
    "| name           | varchar |\n",
    "\n",
    "user_id is the primary key (column with unique values) for this table. <br>\n",
    "This table contains the ID and the name of the user. The name consists of only lowercase and uppercase characters.\n",
    " \n",
    "\n",
    "Write a solution to fix the names so that only the first character is uppercase and the rest are lowercase.\n",
    "\n",
    "Return the result table ordered by user_id.\n",
    "\n",
    "Input:<br>\n",
    "Users dataframe:\n",
    "\n",
    "| user_id | name  |\n",
    "|:-------:|:-----:|\n",
    "| 1       | aLice |\n",
    "| 2       | bOB   |\n",
    "\n",
    "Output: \n",
    "\n",
    "| user_id | name  |\n",
    "|:------:|:------:|\n",
    "| 1       | Alice |\n",
    "| 2       | Bob   |"
   ]
  },
  {
   "cell_type": "markdown",
   "metadata": {},
   "source": [
    "#### Testcase"
   ]
  },
  {
   "cell_type": "code",
   "execution_count": 6,
   "metadata": {},
   "outputs": [
    {
     "name": "stdout",
     "output_type": "stream",
     "text": [
      "shape: (2, 2)\n",
      "┌─────────┬───────┐\n",
      "│ user_id ┆ name  │\n",
      "│ ---     ┆ ---   │\n",
      "│ i64     ┆ str   │\n",
      "╞═════════╪═══════╡\n",
      "│ 1       ┆ aLice │\n",
      "│ 2       ┆ bOB   │\n",
      "└─────────┴───────┘\n"
     ]
    }
   ],
   "source": [
    "# Test data\n",
    "data = [[1, 'aLice'], [2, 'bOB']]\n",
    "\n",
    "# Create the DataFrame\n",
    "users = pl.DataFrame(\n",
    "    data,\n",
    "    schema=['user_id', 'name']\n",
    ")\n",
    "\n",
    "# Display the DataFrame\n",
    "print(users)"
   ]
  },
  {
   "cell_type": "markdown",
   "metadata": {},
   "source": [
    "#### Solution"
   ]
  },
  {
   "cell_type": "code",
   "execution_count": 7,
   "metadata": {},
   "outputs": [
    {
     "name": "stdout",
     "output_type": "stream",
     "text": [
      "shape: (2, 2)\n",
      "┌─────────┬───────┐\n",
      "│ user_id ┆ name  │\n",
      "│ ---     ┆ ---   │\n",
      "│ i64     ┆ str   │\n",
      "╞═════════╪═══════╡\n",
      "│ 1       ┆ Alice │\n",
      "│ 2       ┆ Bob   │\n",
      "└─────────┴───────┘\n"
     ]
    }
   ],
   "source": [
    "def fix_names(users: pl.DataFrame) -> pl.DataFrame:\n",
    "    df = users.with_columns(pl.col('name').str.to_titlecase()).sort('user_id')\n",
    "    return df\n",
    "\n",
    "# Display the result\n",
    "print(fix_names(users=users))"
   ]
  },
  {
   "cell_type": "markdown",
   "metadata": {},
   "source": [
    "### Find Users With Valid E-Mails"
   ]
  },
  {
   "cell_type": "markdown",
   "metadata": {},
   "source": [
    "#### Question\n",
    "\n",
    "DataFrame: Users\n",
    "\n",
    "| Column Name   | Type    |\n",
    "|:-------------:|:-------:|\n",
    "| user_id       | int     |\n",
    "| name          | varchar |\n",
    "| mail          | varchar |\n",
    "\n",
    "user_id is the primary key (column with unique values) for this table.<br>\n",
    "This table contains information of the users signed up in a website. Some e-mails are invalid.\n",
    " \n",
    "\n",
    "Write a solution to find the users who have valid emails.\n",
    "\n",
    "A valid e-mail has a prefix name and a domain where:\n",
    "\n",
    "- The prefix name is a string that may contain letters (upper or lower case), digits, underscore '_', period '.', and/or dash '-'. The prefix name must start with a letter.\n",
    "- The domain is '@leetcode.com'.\n",
    "\n",
    "Return the result table in any order.\n",
    "\n",
    "Input:<br>\n",
    "Users dataframe:\n",
    "\n",
    "| user_id | name      | mail                    |\n",
    "|:-------:|:---------:|:-----------------------:|\n",
    "| 1       | Winston   | winston@leetcode.com    |\n",
    "| 2       | Jonathan  | jonathanisgreat         |\n",
    "| 3       | Annabelle | bella-@leetcode.com     |\n",
    "| 4       | Sally     | sally.come@leetcode.com |\n",
    "| 5       | Marwan    | quarz#2020@leetcode.com |\n",
    "| 6       | David     | david69@gmail.com       |\n",
    "| 7       | Shapiro   | .shapo@leetcode.com     |\n",
    "\n",
    "Output: \n",
    "\n",
    "| user_id | name      | mail                    |\n",
    "|:-------:|:---------:|:-----------------------:|\n",
    "| 1       | Winston   | winston@leetcode.com    |\n",
    "| 3       | Annabelle | bella-@leetcode.com     |\n",
    "| 4       | Sally     | sally.come@leetcode.com |\n",
    "\n",
    "Explanation:<br>\n",
    "The mail of user 2 does not have a domain.<br>\n",
    "The mail of user 5 has the # sign which is not allowed.<br>\n",
    "The mail of user 6 does not have the leetcode domain.<br>\n",
    "The mail of user 7 starts with a period."
   ]
  },
  {
   "cell_type": "markdown",
   "metadata": {},
   "source": [
    "#### Testcase"
   ]
  },
  {
   "cell_type": "code",
   "execution_count": 11,
   "metadata": {},
   "outputs": [
    {
     "name": "stdout",
     "output_type": "stream",
     "text": [
      "shape: (7, 3)\n",
      "┌─────────┬───────────┬─────────────────────────┐\n",
      "│ user_id ┆ name      ┆ mail                    │\n",
      "│ ---     ┆ ---       ┆ ---                     │\n",
      "│ i64     ┆ str       ┆ str                     │\n",
      "╞═════════╪═══════════╪═════════════════════════╡\n",
      "│ 1       ┆ Winston   ┆ winston@leetcode.com    │\n",
      "│ 2       ┆ Jonathan  ┆ jonathanisgreat         │\n",
      "│ 3       ┆ Annabelle ┆ bella-@leetcode.com     │\n",
      "│ 4       ┆ Sally     ┆ sally.come@leetcode.com │\n",
      "│ 5       ┆ Marwan    ┆ quarz#2020@leetcode.com │\n",
      "│ 6       ┆ David     ┆ david69@gmail.com       │\n",
      "│ 7       ┆ Shapiro   ┆ .shapo@leetcode.com     │\n",
      "└─────────┴───────────┴─────────────────────────┘\n"
     ]
    }
   ],
   "source": [
    "# Test data\n",
    "data = [[1, 'Winston', 'winston@leetcode.com'], \n",
    "        [2, 'Jonathan', 'jonathanisgreat'], \n",
    "        [3, 'Annabelle', 'bella-@leetcode.com'], \n",
    "        [4, 'Sally', 'sally.come@leetcode.com'], \n",
    "        [5, 'Marwan', 'quarz#2020@leetcode.com'], \n",
    "        [6, 'David', 'david69@gmail.com'], \n",
    "        [7, 'Shapiro', '.shapo@leetcode.com']]\n",
    "\n",
    "# Create the DataFrame\n",
    "users = pl.DataFrame(\n",
    "    data,\n",
    "    schema=['user_id', 'name', 'mail']\n",
    ")\n",
    "\n",
    "# Display the DataFrame\n",
    "print(users)"
   ]
  },
  {
   "cell_type": "markdown",
   "metadata": {},
   "source": [
    "#### Solution"
   ]
  },
  {
   "cell_type": "code",
   "execution_count": 12,
   "metadata": {},
   "outputs": [
    {
     "name": "stdout",
     "output_type": "stream",
     "text": [
      "shape: (3, 3)\n",
      "┌─────────┬───────────┬─────────────────────────┐\n",
      "│ user_id ┆ name      ┆ mail                    │\n",
      "│ ---     ┆ ---       ┆ ---                     │\n",
      "│ i64     ┆ str       ┆ str                     │\n",
      "╞═════════╪═══════════╪═════════════════════════╡\n",
      "│ 1       ┆ Winston   ┆ winston@leetcode.com    │\n",
      "│ 3       ┆ Annabelle ┆ bella-@leetcode.com     │\n",
      "│ 4       ┆ Sally     ┆ sally.come@leetcode.com │\n",
      "└─────────┴───────────┴─────────────────────────┘\n"
     ]
    }
   ],
   "source": [
    "def valid_emails(users: pl.DataFrame) -> pl.DataFrame:\n",
    "  regex = r\"^[a-zA-Z][a-zA-Z0-9_.-]*@leetcode\\.com$\"\n",
    "  df = users.filter(pl.col('mail').str.contains(regex))\n",
    "  return df\n",
    "\n",
    "# Display the result\n",
    "print(valid_emails(users=users))"
   ]
  },
  {
   "cell_type": "markdown",
   "metadata": {},
   "source": [
    "### Patients With a Condition"
   ]
  },
  {
   "cell_type": "markdown",
   "metadata": {},
   "source": [
    "#### Question\n",
    "\n",
    "DataFrame: Patients\n",
    "\n",
    "| Column Name  | Type    |\n",
    "|:------------:|:-------:|\n",
    "| patient_id   | int     |\n",
    "| patient_name | varchar |\n",
    "| conditions   | varchar |\n",
    "\n",
    "patient_id is the primary key (column with unique values) for this table.<br>\n",
    "'conditions' contains 0 or more code separated by spaces.<br>\n",
    "This table contains information of the patients in the hospital.\n",
    " \n",
    "\n",
    "Write a solution to find the patient_id, patient_name, and conditions of the patients who have Type I Diabetes. Type I Diabetes always starts with DIAB1 prefix. <br>\n",
    "\n",
    "Return the result table in any order.\n",
    "\n",
    "Input: \n",
    "Patients dataframe:\n",
    "\n",
    "| patient_id | patient_name | conditions   |\n",
    "|:----------:|:------------:|:------------:|\n",
    "| 1          | Daniel       | YFEV COUGH   |\n",
    "| 2          | Alice        |              |\n",
    "| 3          | Bob          | DIAB100 MYOP |\n",
    "| 4          | George       | ACNE DIAB100 |\n",
    "| 5          | Alain        | DIAB201      |\n",
    "\n",
    "Output: \n",
    "\n",
    "| patient_id | patient_name | conditions   |\n",
    "|:----------:|:------------:|:------------:|\n",
    "| 3          | Bob          | DIAB100 MYOP |\n",
    "| 4          | George       | ACNE DIAB100 | \n",
    "\n",
    "Explanation: Bob and George both have a condition that starts with DIAB1."
   ]
  },
  {
   "cell_type": "markdown",
   "metadata": {},
   "source": [
    "#### Testcase"
   ]
  },
  {
   "cell_type": "code",
   "execution_count": 13,
   "metadata": {},
   "outputs": [
    {
     "name": "stdout",
     "output_type": "stream",
     "text": [
      "shape: (5, 3)\n",
      "┌────────────┬──────────────┬──────────────┐\n",
      "│ patient_id ┆ patient_name ┆ conditions   │\n",
      "│ ---        ┆ ---          ┆ ---          │\n",
      "│ i64        ┆ str          ┆ str          │\n",
      "╞════════════╪══════════════╪══════════════╡\n",
      "│ 1          ┆ Daniel       ┆ YFEV COUGH   │\n",
      "│ 2          ┆ Alice        ┆              │\n",
      "│ 3          ┆ Bob          ┆ DIAB100 MYOP │\n",
      "│ 4          ┆ George       ┆ ACNE DIAB100 │\n",
      "│ 5          ┆ Alain        ┆ DIAB201      │\n",
      "└────────────┴──────────────┴──────────────┘\n"
     ]
    }
   ],
   "source": [
    "# Test data\n",
    "data = [[1, 'Daniel', 'YFEV COUGH'], [2, 'Alice', ''], [3, 'Bob', 'DIAB100 MYOP'], [4, 'George', 'ACNE DIAB100'], [5, 'Alain', 'DIAB201']]\n",
    "\n",
    "# Create the DataFrame\n",
    "patients = pl.DataFrame(\n",
    "    data,\n",
    "    schema=['patient_id', 'patient_name', 'conditions']\n",
    ")\n",
    "\n",
    "# Display the DataFrame\n",
    "print(patients)"
   ]
  },
  {
   "cell_type": "markdown",
   "metadata": {},
   "source": [
    "#### Solution"
   ]
  },
  {
   "cell_type": "code",
   "execution_count": 14,
   "metadata": {},
   "outputs": [
    {
     "name": "stdout",
     "output_type": "stream",
     "text": [
      "shape: (2, 3)\n",
      "┌────────────┬──────────────┬──────────────┐\n",
      "│ patient_id ┆ patient_name ┆ conditions   │\n",
      "│ ---        ┆ ---          ┆ ---          │\n",
      "│ i64        ┆ str          ┆ str          │\n",
      "╞════════════╪══════════════╪══════════════╡\n",
      "│ 3          ┆ Bob          ┆ DIAB100 MYOP │\n",
      "│ 4          ┆ George       ┆ ACNE DIAB100 │\n",
      "└────────────┴──────────────┴──────────────┘\n"
     ]
    }
   ],
   "source": [
    "def find_patients(patients: pl.DataFrame) -> pl.DataFrame:\n",
    "  regex = r\"\\bDIAB1\"\n",
    "  df = patients.filter(pl.col('conditions').str.contains(regex))\n",
    "  return df\n",
    "\n",
    "# Display the result\n",
    "print(find_patients(patients=patients))"
   ]
  }
 ],
 "metadata": {
  "kernelspec": {
   "display_name": "polars_exercises_env",
   "language": "python",
   "name": "python3"
  },
  "language_info": {
   "codemirror_mode": {
    "name": "ipython",
    "version": 3
   },
   "file_extension": ".py",
   "mimetype": "text/x-python",
   "name": "python",
   "nbconvert_exporter": "python",
   "pygments_lexer": "ipython3",
   "version": "3.11.2"
  }
 },
 "nbformat": 4,
 "nbformat_minor": 2
}
