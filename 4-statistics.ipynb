{
 "cells": [
  {
   "cell_type": "code",
   "execution_count": 1,
   "metadata": {},
   "outputs": [
    {
     "name": "stdout",
     "output_type": "stream",
     "text": [
      "0.20.31\n"
     ]
    }
   ],
   "source": [
    "import polars as pl\n",
    "print(pl.__version__)"
   ]
  },
  {
   "cell_type": "markdown",
   "metadata": {},
   "source": [
    "### Count Salary Categories"
   ]
  },
  {
   "cell_type": "markdown",
   "metadata": {},
   "source": [
    "#### Question\n",
    "\n",
    "DataFrame: Accounts\n",
    "\n",
    "| Column Name | Type |\n",
    "|:-----------:|:----:|\n",
    "| account_id  | int  |\n",
    "| income      | int  |\n",
    "\n",
    "account_id is the primary key (column with unique values) for this table.<br>\n",
    "Each row contains information about the monthly income for one bank account.\n",
    " \n",
    "\n",
    "Write a solution to calculate the number of bank accounts for each salary category. The salary categories are:\n",
    "\n",
    "\"Low Salary\": All the salaries strictly less than $20000.<br>\n",
    "\n",
    "\"Average Salary\": All the salaries in the inclusive range [$20000, $50000].<br>\n",
    "\n",
    "\"High Salary\": All the salaries strictly greater than $50000.<br>\n",
    "\n",
    "The result table must contain all three categories. If there are no accounts in a category, return 0.\n",
    "\n",
    "Return the result table in any order.\n",
    "\n",
    "The result format is in the following example.\n",
    "\n",
    "Example:\n",
    "\n",
    "Input:<br>\n",
    "Accounts dataframe:\n",
    "\n",
    "| account_id | income |\n",
    "|:----------:|:------:|\n",
    "| 3          | 108939 |\n",
    "| 2          | 12747  |\n",
    "| 8          | 87709  |\n",
    "| 6          | 91796  |\n",
    "\n",
    "Output: \n",
    "\n",
    "| category       | accounts_count |\n",
    "|:--------------:|--------------:|\n",
    "| Low Salary     | 1              |\n",
    "| Average Salary | 0              |\n",
    "| High Salary    | 3              |\n",
    "\n",
    "Explanation:<br>\n",
    "Low Salary: Account 2.<br>\n",
    "Average Salary: No accounts.<br>\n",
    "High Salary: Accounts 3, 6, and 8.<br>"
   ]
  },
  {
   "cell_type": "markdown",
   "metadata": {},
   "source": [
    "#### Testcase"
   ]
  },
  {
   "cell_type": "code",
   "execution_count": 2,
   "metadata": {},
   "outputs": [
    {
     "name": "stdout",
     "output_type": "stream",
     "text": [
      "shape: (4, 2)\n",
      "┌────────────┬────────┐\n",
      "│ account_id ┆ income │\n",
      "│ ---        ┆ ---    │\n",
      "│ i64        ┆ i64    │\n",
      "╞════════════╪════════╡\n",
      "│ 3          ┆ 108939 │\n",
      "│ 2          ┆ 12747  │\n",
      "│ 8          ┆ 87709  │\n",
      "│ 6          ┆ 91796  │\n",
      "└────────────┴────────┘\n"
     ]
    }
   ],
   "source": [
    "# Test data\n",
    "data = [[3, 108939], [2, 12747], [8, 87709], [6, 91796]]\n",
    "\n",
    "# Create the DataFrame\n",
    "accounts = pl.DataFrame(\n",
    "    data,\n",
    "    schema=['account_id', 'income']\n",
    ")\n",
    "\n",
    "# Display the DataFrame\n",
    "print(accounts)"
   ]
  },
  {
   "cell_type": "markdown",
   "metadata": {},
   "source": [
    "#### Solution"
   ]
  },
  {
   "cell_type": "code",
   "execution_count": 5,
   "metadata": {},
   "outputs": [
    {
     "name": "stdout",
     "output_type": "stream",
     "text": [
      "shape: (3, 2)\n",
      "┌────────────────┬────────────────┐\n",
      "│ category       ┆ accounts_count │\n",
      "│ ---            ┆ ---            │\n",
      "│ str            ┆ i64            │\n",
      "╞════════════════╪════════════════╡\n",
      "│ Low Salary     ┆ 1              │\n",
      "│ Average Salary ┆ 0              │\n",
      "│ High Salary    ┆ 3              │\n",
      "└────────────────┴────────────────┘\n"
     ]
    }
   ],
   "source": [
    "def count_salary_categories(accounts: pl.DataFrame) -> pl.DataFrame:\n",
    "    \n",
    "    # Calculate the number of accounts in each salary category\n",
    "    low = accounts.filter(pl.col('income') < 20000).height\n",
    "    avg = accounts.filter((pl.col('income') >= 20000) & (pl.col('income') <= 50000)).height\n",
    "    high = accounts.filter(pl.col('income') > 50000).height\n",
    "    \n",
    "    # Create a new DataFrame with the result\n",
    "    result = pl.DataFrame({\n",
    "        'category': ['Low Salary', 'Average Salary', 'High Salary'],\n",
    "        'accounts_count': [low, avg, high],\n",
    "    })\n",
    "    \n",
    "    return result\n",
    "\n",
    "# Display the result\n",
    "print(count_salary_categories(accounts=accounts))\n"
   ]
  },
  {
   "cell_type": "markdown",
   "metadata": {},
   "source": [
    "### Immediate Food Delivery I"
   ]
  },
  {
   "cell_type": "markdown",
   "metadata": {},
   "source": [
    "#### Question\n",
    "\n",
    "DataFrame: Delivery\n",
    "\n",
    "| Column Name                 | Type    |\n",
    "|:---------------------------:|:-------:|\n",
    "| delivery_id                 | int     |\n",
    "| customer_id                 | int     |\n",
    "| order_date                  | date    |\n",
    "| customer_pref_delivery_date | date    |\n",
    "\n",
    "delivery_id is the primary key (column with unique values) of this table.<br>\n",
    "The table holds information about food delivery to customers that make orders at some date and specify a preferred delivery date (on the same order date or after it).\n",
    "\n",
    "If the customer's preferred delivery date is the same as the order date, then the order is called immediate; otherwise, it is called scheduled.\n",
    "\n",
    "Write a solution to find the percentage of immediate orders in the table, rounded to 2 decimal places.\n",
    "\n",
    "The result format is in the following example.\n",
    "\n",
    "Example:\n",
    "\n",
    "Input:<br>\n",
    "Delivery dataframe:\n",
    "\n",
    "| delivery_id | customer_id | order_date | customer_pref_delivery_date |\n",
    "|:-----------:|:-----------:|:----------:|---------------------------:|\n",
    "| 1           | 1           | 2019-08-01 | 2019-08-02                  |\n",
    "| 2           | 5           | 2019-08-02 | 2019-08-02                  |\n",
    "| 3           | 1           | 2019-08-11 | 2019-08-11                  |\n",
    "| 4           | 3           | 2019-08-24 | 2019-08-26                  |\n",
    "| 5           | 4           | 2019-08-21 | 2019-08-22                  |\n",
    "| 6           | 2           | 2019-08-11 | 2019-08-13                  |\n",
    "\n",
    "Output: \n",
    "\n",
    "| immediate_percentage |\n",
    "|:--------------------:|\n",
    "| 33.33                |\n",
    "\n",
    "Explanation: The orders with delivery id 2 and 3 are immediate while the others are scheduled."
   ]
  },
  {
   "cell_type": "markdown",
   "metadata": {},
   "source": [
    "#### Tescase"
   ]
  },
  {
   "cell_type": "code",
   "execution_count": 6,
   "metadata": {},
   "outputs": [
    {
     "name": "stdout",
     "output_type": "stream",
     "text": [
      "shape: (4, 2)\n",
      "┌────────────┬─────────────────────────────┐\n",
      "│ order_date ┆ customer_pref_delivery_date │\n",
      "│ ---        ┆ ---                         │\n",
      "│ str        ┆ str                         │\n",
      "╞════════════╪═════════════════════════════╡\n",
      "│ 2023-01-01 ┆ 2023-01-01                  │\n",
      "│ 2023-01-02 ┆ 2023-01-05                  │\n",
      "│ 2023-01-03 ┆ 2023-01-03                  │\n",
      "│ 2023-01-04 ┆ 2023-01-06                  │\n",
      "└────────────┴─────────────────────────────┘\n"
     ]
    }
   ],
   "source": [
    "# Test data\n",
    "data = [['2023-01-01', '2023-01-01'], ['2023-01-02', '2023-01-05'], ['2023-01-03', '2023-01-03'], ['2023-01-04', '2023-01-06']]\n",
    "\n",
    "# Create the DataFrame\n",
    "delivery = pl.DataFrame(\n",
    "    data,\n",
    "    schema=['order_date', 'customer_pref_delivery_date']\n",
    ")\n",
    "\n",
    "# Display the DataFrame\n",
    "print(delivery)"
   ]
  },
  {
   "cell_type": "markdown",
   "metadata": {},
   "source": [
    "#### Solution"
   ]
  },
  {
   "cell_type": "code",
   "execution_count": 8,
   "metadata": {},
   "outputs": [
    {
     "name": "stdout",
     "output_type": "stream",
     "text": [
      "shape: (1, 1)\n",
      "┌──────────────────────┐\n",
      "│ immediate_percentage │\n",
      "│ ---                  │\n",
      "│ f64                  │\n",
      "╞══════════════════════╡\n",
      "│ 50.0                 │\n",
      "└──────────────────────┘\n"
     ]
    }
   ],
   "source": [
    "def food_delivery(delivery: pl.DataFrame) -> pl.DataFrame:\n",
    "    \n",
    "    # Calculate the number of immediate deliveries\n",
    "    immediate_count = delivery.filter(pl.col('order_date') == pl.col('customer_pref_delivery_date')).height\n",
    "    \n",
    "    # Calculate the total number of rows\n",
    "    total_rows = delivery.height\n",
    "    \n",
    "    # Calculate the percentage of immediate deliveries\n",
    "    immediate_percentage = round(immediate_count / total_rows * 100, 2)\n",
    "    \n",
    "    # Create a new DataFrame with the result\n",
    "    result = pl.DataFrame({'immediate_percentage': [immediate_percentage]})\n",
    "    \n",
    "    return result\n",
    "\n",
    "# Display the result\n",
    "print(food_delivery(delivery=delivery))"
   ]
  },
  {
   "cell_type": "markdown",
   "metadata": {},
   "source": [
    "### The Number of Rich Customers"
   ]
  },
  {
   "cell_type": "markdown",
   "metadata": {},
   "source": [
    "#### Question\n",
    "\n",
    "DataFrame: Store\n",
    "\n",
    "| Column Name | Type |\n",
    "|:-----------:|:----:|\n",
    "| bill_id     | int  |\n",
    "| customer_id | int  |\n",
    "| amount      | int  |\n",
    "\n",
    "bill_id is the primary key (column with unique values) for this table.<br>\n",
    "Each row contains information about the amount of one bill and the customer associated with it.\n",
    "\n",
    "Write a solution to report the number of customers who had at least one bill with an amount strictly greater than 500.\n",
    "\n",
    "The result format is in the following example.\n",
    "\n",
    "Example:\n",
    "\n",
    "Input:<br>\n",
    "Store dataframe:\n",
    "\n",
    "| bill_id | customer_id | amount |\n",
    "|:-------:|:-----------:|:------:|\n",
    "| 6       | 1           | 549    |\n",
    "| 8       | 1           | 834    |\n",
    "| 4       | 2           | 394    |\n",
    "| 11      | 3           | 657    |\n",
    "| 13      | 3           | 257    |\n",
    "\n",
    "Output: \n",
    "\n",
    "| rich_count |\n",
    "|:----------:|\n",
    "| 2          |\n",
    "\n",
    "Explanation: \n",
    "Customer 1 has two bills with amounts strictly greater than 500.<br>\n",
    "Customer 2 does not have any bills with an amount strictly greater than 500.<br>\n",
    "Customer 3 has one bill with an amount strictly greater than 500.<br>"
   ]
  },
  {
   "cell_type": "markdown",
   "metadata": {},
   "source": [
    "#### Testcase"
   ]
  },
  {
   "cell_type": "code",
   "execution_count": 9,
   "metadata": {},
   "outputs": [
    {
     "name": "stdout",
     "output_type": "stream",
     "text": [
      "shape: (7, 2)\n",
      "┌─────────────┬────────┐\n",
      "│ customer_id ┆ amount │\n",
      "│ ---         ┆ ---    │\n",
      "│ i64         ┆ i64    │\n",
      "╞═════════════╪════════╡\n",
      "│ 1           ┆ 600    │\n",
      "│ 2           ┆ 300    │\n",
      "│ 3           ┆ 450    │\n",
      "│ 4           ┆ 700    │\n",
      "│ 5           ┆ 800    │\n",
      "│ 6           ┆ 200    │\n",
      "│ 7           ┆ 550    │\n",
      "└─────────────┴────────┘\n"
     ]
    }
   ],
   "source": [
    "# Test data\n",
    "data = [[1, 600], [2, 300], [3, 450], [4, 700], [5, 800], [6, 200], [7, 550]]\n",
    "\n",
    "# Create the DataFrame\n",
    "store = pl.DataFrame(\n",
    "    data,\n",
    "    schema=['customer_id', 'amount']\n",
    ")\n",
    "\n",
    "# Display the DataFrame\n",
    "print(store)"
   ]
  },
  {
   "cell_type": "markdown",
   "metadata": {},
   "source": [
    "#### Solution\n",
    "\n"
   ]
  },
  {
   "cell_type": "code",
   "execution_count": 10,
   "metadata": {},
   "outputs": [
    {
     "name": "stdout",
     "output_type": "stream",
     "text": [
      "shape: (1, 1)\n",
      "┌────────────┐\n",
      "│ rich_count │\n",
      "│ ---        │\n",
      "│ i64        │\n",
      "╞════════════╡\n",
      "│ 4          │\n",
      "└────────────┘\n"
     ]
    }
   ],
   "source": [
    "def count_rich_customers(store: pl.DataFrame) -> pl.DataFrame:\n",
    "    \n",
    "    # Filter the rows where the 'amount' is greater than 500 and get the unique 'customer_id' count\n",
    "    rich_count = store.filter(pl.col('amount') > 500)['customer_id'].n_unique()\n",
    "    \n",
    "    # Create a new DataFrame with the result\n",
    "    result = pl.DataFrame({'rich_count': [rich_count]})\n",
    "    \n",
    "    return result\n",
    "\n",
    "# Display the result\n",
    "print(count_rich_customers(store=store))"
   ]
  }
 ],
 "metadata": {
  "kernelspec": {
   "display_name": "polars_exercises_env",
   "language": "python",
   "name": "python3"
  },
  "language_info": {
   "codemirror_mode": {
    "name": "ipython",
    "version": 3
   },
   "file_extension": ".py",
   "mimetype": "text/x-python",
   "name": "python",
   "nbconvert_exporter": "python",
   "pygments_lexer": "ipython3",
   "version": "3.11.2"
  }
 },
 "nbformat": 4,
 "nbformat_minor": 2
}
