{
 "cells": [
  {
   "cell_type": "code",
   "execution_count": 120,
   "metadata": {},
   "outputs": [
    {
     "name": "stdout",
     "output_type": "stream",
     "text": [
      "0.20.31\n"
     ]
    }
   ],
   "source": [
    "import polars as pl\n",
    "print(pl.__version__)"
   ]
  },
  {
   "cell_type": "markdown",
   "metadata": {},
   "source": [
    "### Nth Highest Salary"
   ]
  },
  {
   "cell_type": "markdown",
   "metadata": {},
   "source": [
    "#### Question\n",
    "\n",
    "DataFrame: Employee\n",
    "\n",
    "| Column Name | Type |\n",
    "|:-----------:|:----:|\n",
    "| id          | int  |\n",
    "| salary      | int  |\n",
    "\n",
    "id is the primary key (column with unique values) for this table. <br>\n",
    "Each row of this table contains information about the salary of an employee.\n",
    " \n",
    "\n",
    "Write a solution to find the nth highest salary from the Employee table. If there is no nth highest salary, return null.\n",
    "\n",
    "Example 1:\n",
    "\n",
    "Input:<br>\n",
    "Employee dataframe:\n",
    "\n",
    "| id | salary |\n",
    "|:--:|:------:|\n",
    "| 1  | 100    |\n",
    "| 2  | 200    |\n",
    "| 3  | 300    |\n",
    "\n",
    "n = 2<br>\n",
    "Output: \n",
    "\n",
    "| getNthHighestSalary(2) |\n",
    "|:----------------------:|\n",
    "| 200                    |\n",
    "\n",
    "\n",
    "Example 2:\n",
    "\n",
    "Input:<br>\n",
    "Employee dataframe:\n",
    "\n",
    "| id | salary |\n",
    "|:---|:------:|\n",
    "| 1  | 100    |\n",
    "\n",
    "n = 2<br>\n",
    "Output: \n",
    "\n",
    "| getNthHighestSalary(2) |\n",
    "|:----------------------:|\n",
    "| null                   |"
   ]
  },
  {
   "cell_type": "markdown",
   "metadata": {},
   "source": [
    "#### Testcase"
   ]
  },
  {
   "cell_type": "code",
   "execution_count": 121,
   "metadata": {},
   "outputs": [
    {
     "name": "stdout",
     "output_type": "stream",
     "text": [
      "shape: (3, 2)\n",
      "┌─────┬────────┐\n",
      "│ Id  ┆ Salary │\n",
      "│ --- ┆ ---    │\n",
      "│ i64 ┆ i64    │\n",
      "╞═════╪════════╡\n",
      "│ 1   ┆ 100    │\n",
      "│ 2   ┆ 200    │\n",
      "│ 3   ┆ 300    │\n",
      "└─────┴────────┘\n"
     ]
    }
   ],
   "source": [
    "# Test data\n",
    "data = [[1, 100], [2, 200], [3, 300]]\n",
    "\n",
    "# Create the DataFrame\n",
    "employee = pl.DataFrame(\n",
    "    data,\n",
    "    schema=['Id', 'Salary']\n",
    ")\n",
    "\n",
    "# Display the DataFrame\n",
    "print(employee)"
   ]
  },
  {
   "cell_type": "markdown",
   "metadata": {},
   "source": [
    "#### Solution"
   ]
  },
  {
   "cell_type": "code",
   "execution_count": 122,
   "metadata": {},
   "outputs": [
    {
     "name": "stdout",
     "output_type": "stream",
     "text": [
      "shape: (1, 1)\n",
      "┌────────────────────┐\n",
      "│ Nth Highest Salary │\n",
      "│ ---                │\n",
      "│ i64                │\n",
      "╞════════════════════╡\n",
      "│ 200                │\n",
      "└────────────────────┘\n"
     ]
    }
   ],
   "source": [
    "def nth_highest_salary(employee: pl.DataFrame, N: int):\n",
    "\n",
    "    # Sort the DataFrame by salary in descending order\n",
    "    sorted_df = employee.sort('Salary', descending=True)\n",
    "    \n",
    "    # Check if n is within the range of the number of rows\n",
    "    if n <= len(sorted_df):\n",
    "        # Retrieve the nth highest salary\n",
    "        nth_salary = sorted_df[n-1, \"Salary\"]\n",
    "        return pl.DataFrame({'Nth Highest Salary':[nth_salary]})\n",
    "    else:\n",
    "        nth_salary = None\n",
    "        return pl.DataFrame({'Nth Highest Salary':[nth_salary]})\n",
    "    \n",
    "# Display the result\n",
    "n = 2\n",
    "print(nth_highest_salary(employee=employee, N=n))"
   ]
  },
  {
   "cell_type": "markdown",
   "metadata": {},
   "source": [
    "### Second Highest Salary"
   ]
  },
  {
   "cell_type": "markdown",
   "metadata": {},
   "source": [
    "#### Question\n",
    "\n",
    "DataFrame: Employee\n",
    "\n",
    "| Column Name | Type |\n",
    "|:-----------:|:----:|\n",
    "| id          | int  |\n",
    "| salary      | int  |\n",
    "\n",
    "id is the primary key (column with unique values) for this table.<br>\n",
    "Each row of this table contains information about the salary of an employee.\n",
    " \n",
    "\n",
    "Write a solution to find the second highest salary from the Employee table. If there is no second highest salary, return null (return None in Pandas).\n",
    "\n",
    "Example 1:\n",
    "\n",
    "Input:<br>\n",
    "Employee dataframe:\n",
    "\n",
    "| id | salary |\n",
    "|:--:|:------:|\n",
    "| 1  | 100    |\n",
    "| 2  | 200    |\n",
    "| 3  | 300    |\n",
    "\n",
    "Output: \n",
    "\n",
    "| SecondHighestSalary |\n",
    "|:-------------------:|\n",
    "| 200                 |\n",
    "\n",
    "Example 2:\n",
    "\n",
    "Input:<br>\n",
    "Employee dataframe:\n",
    "\n",
    "| id | salary |\n",
    "|:--:|:------:|\n",
    "| 1  | 100    |\n",
    "\n",
    "Output: \n",
    "\n",
    "| SecondHighestSalary |\n",
    "|:-------------------:|\n",
    "| null                |\n"
   ]
  },
  {
   "cell_type": "markdown",
   "metadata": {},
   "source": [
    "#### Testcase"
   ]
  },
  {
   "cell_type": "code",
   "execution_count": 123,
   "metadata": {},
   "outputs": [
    {
     "name": "stdout",
     "output_type": "stream",
     "text": [
      "shape: (3, 2)\n",
      "┌─────┬────────┐\n",
      "│ id  ┆ salary │\n",
      "│ --- ┆ ---    │\n",
      "│ i64 ┆ i64    │\n",
      "╞═════╪════════╡\n",
      "│ 1   ┆ 100    │\n",
      "│ 2   ┆ 200    │\n",
      "│ 3   ┆ 300    │\n",
      "└─────┴────────┘\n"
     ]
    }
   ],
   "source": [
    "# Test data\n",
    "data = [[1, 100], [2, 200], [3, 300]]\n",
    "\n",
    "# Create the DataFrame\n",
    "employee = pl.DataFrame(\n",
    "    data,\n",
    "    schema=['id', 'salary']\n",
    ")\n",
    "\n",
    "# Display the DataFrame\n",
    "print(employee)"
   ]
  },
  {
   "cell_type": "markdown",
   "metadata": {},
   "source": [
    "#### Solution"
   ]
  },
  {
   "cell_type": "code",
   "execution_count": 124,
   "metadata": {},
   "outputs": [
    {
     "name": "stdout",
     "output_type": "stream",
     "text": [
      "shape: (1, 1)\n",
      "┌─────────────────────┐\n",
      "│ SecondHighestSalary │\n",
      "│ ---                 │\n",
      "│ i64                 │\n",
      "╞═════════════════════╡\n",
      "│ 200                 │\n",
      "└─────────────────────┘\n"
     ]
    }
   ],
   "source": [
    "def second_highest_salary(employee: pl.DataFrame) -> pl.DataFrame:\n",
    "    \n",
    "    # Drop duplicate salaries to ensure unique values\n",
    "    unique_salaries_df = employee.unique(subset=['salary'])\n",
    "    \n",
    "    # Sort the DataFrame by salary in descending order\n",
    "    sorted_df = unique_salaries_df.sort('salary', descending=True)\n",
    "    \n",
    "    # Check if there is a second highest salary\n",
    "    if len(sorted_df) >= 2:\n",
    "        # Retrieve the second highest salary\n",
    "        second_salary = sorted_df[1, 'salary']\n",
    "        return pl.DataFrame({'SecondHighestSalary':[second_salary]})\n",
    "    else:\n",
    "        second_salary = None\n",
    "        return pl.DataFrame({'SecondHighestSalary':[second_salary]})\n",
    "\n",
    "# Display the result\n",
    "print(second_highest_salary(employee=employee))"
   ]
  },
  {
   "cell_type": "markdown",
   "metadata": {},
   "source": [
    "### Department Highest Salary"
   ]
  },
  {
   "cell_type": "markdown",
   "metadata": {},
   "source": [
    "#### Question\n",
    "\n",
    "DataFrame: Employee\n",
    "\n",
    "| Column Name  | Type    |\n",
    "|:------------:|:-------:|\n",
    "| id           | int     |\n",
    "| name         | varchar |\n",
    "| salary       | int     |\n",
    "| departmentId | int     |\n",
    "\n",
    "id is the primary key (column with unique values) for this table.<br>\n",
    "departmentId is a foreign key (reference columns) of the ID from the Department table.<br>\n",
    "Each row of this table indicates the ID, name, and salary of an employee. It also contains the ID of their department.\n",
    " \n",
    "\n",
    "DataFrame: Department\n",
    "\n",
    "| Column Name | Type    |\n",
    "|:-----------:|:-------:|\n",
    "| id          | int     |\n",
    "| name        | varchar |\n",
    "\n",
    "id is the primary key (column with unique values) for this table. It is guaranteed that department name is not NULL.<br>\n",
    "Each row of this table indicates the ID of a department and its name.\n",
    " \n",
    "\n",
    "Write a solution to find employees who have the highest salary in each of the departments.\n",
    "\n",
    "Return the result table in any order.\n",
    "\n",
    "Example:\n",
    "\n",
    "Input:<br>\n",
    "Employee dataframe:\n",
    "\n",
    "| id | name  | salary | departmentId |\n",
    "|:--:|:-----:|:------:|:------------:|\n",
    "| 1  | Joe   | 70000  | 1            |\n",
    "| 2  | Jim   | 90000  | 1            |\n",
    "| 3  | Henry | 80000  | 2            |\n",
    "| 4  | Sam   | 60000  | 2            |\n",
    "| 5  | Max   | 90000  | 1            |\n",
    "\n",
    "Department dataframe:\n",
    "\n",
    "| id | name  |\n",
    "|:--:|:-----:|\n",
    "| 1  | IT    |\n",
    "| 2  | Sales |\n",
    "\n",
    "Output:\n",
    "\n",
    "| Department | Employee | Salary |\n",
    "|:----------:|:--------:|:------:|\n",
    "| IT         | Jim      | 90000  |\n",
    "| Sales      | Henry    | 80000  |\n",
    "| IT         | Max      | 90000  |\n",
    "\n",
    "Explanation: Max and Jim both have the highest salary in the IT department and Henry has the highest salary in the Sales department."
   ]
  },
  {
   "cell_type": "markdown",
   "metadata": {},
   "source": [
    "#### Testcase"
   ]
  },
  {
   "cell_type": "code",
   "execution_count": 125,
   "metadata": {},
   "outputs": [
    {
     "name": "stdout",
     "output_type": "stream",
     "text": [
      "employee df: shape: (5, 4)\n",
      "┌─────┬───────┬────────┬──────────────┐\n",
      "│ id  ┆ name  ┆ salary ┆ departmentId │\n",
      "│ --- ┆ ---   ┆ ---    ┆ ---          │\n",
      "│ i64 ┆ str   ┆ i64    ┆ i64          │\n",
      "╞═════╪═══════╪════════╪══════════════╡\n",
      "│ 1   ┆ Joe   ┆ 70000  ┆ 1            │\n",
      "│ 2   ┆ Jim   ┆ 90000  ┆ 1            │\n",
      "│ 3   ┆ Henry ┆ 80000  ┆ 2            │\n",
      "│ 4   ┆ Sam   ┆ 60000  ┆ 2            │\n",
      "│ 5   ┆ Max   ┆ 90000  ┆ 1            │\n",
      "└─────┴───────┴────────┴──────────────┘\n",
      "department df shape: (2, 2)\n",
      "┌─────┬───────┐\n",
      "│ id  ┆ name  │\n",
      "│ --- ┆ ---   │\n",
      "│ i64 ┆ str   │\n",
      "╞═════╪═══════╡\n",
      "│ 1   ┆ IT    │\n",
      "│ 2   ┆ Sales │\n",
      "└─────┴───────┘\n"
     ]
    }
   ],
   "source": [
    "# Test data\n",
    "data_emp = [[1, 'Joe', 70000, 1], [2, 'Jim', 90000, 1], [3, 'Henry', 80000, 2], [4, 'Sam', 60000, 2], [5, 'Max', 90000, 1]]\n",
    "data_dept = [[1, 'IT'], [2, 'Sales']]\n",
    "\n",
    "# Create the DataFrame\n",
    "employee = pl.DataFrame(\n",
    "    data_emp,\n",
    "    schema=['id', 'name', 'salary', 'departmentId']\n",
    ")\n",
    "\n",
    "department = pl.DataFrame(\n",
    "    data_dept,\n",
    "    schema=['id', 'name']\n",
    ")\n",
    "\n",
    "# Display the DataFrame\n",
    "print('employee df:', employee)\n",
    "print('department df', department)"
   ]
  },
  {
   "cell_type": "markdown",
   "metadata": {},
   "source": [
    "#### Solution"
   ]
  },
  {
   "cell_type": "code",
   "execution_count": 126,
   "metadata": {},
   "outputs": [
    {
     "name": "stdout",
     "output_type": "stream",
     "text": [
      "shape: (3, 3)\n",
      "┌────────────┬──────────┬────────┐\n",
      "│ Department ┆ Employee ┆ Salary │\n",
      "│ ---        ┆ ---      ┆ ---    │\n",
      "│ str        ┆ str      ┆ i64    │\n",
      "╞════════════╪══════════╪════════╡\n",
      "│ IT         ┆ Jim      ┆ 90000  │\n",
      "│ Sales      ┆ Henry    ┆ 80000  │\n",
      "│ IT         ┆ Max      ┆ 90000  │\n",
      "└────────────┴──────────┴────────┘\n"
     ]
    }
   ],
   "source": [
    "def department_highest_salary(employee: pl.DataFrame, department: pl.DataFrame) -> pl.DataFrame:\n",
    "\n",
    "    # Join both dataframes\n",
    "    merged_df = employee.join(department, left_on='departmentId', right_on='id', suffix='_department')\n",
    "    # Get max salary by department\n",
    "    max_salaries = employee.group_by('departmentId').agg(pl.col('salary').max()).select('salary')\n",
    "    # Fetch the employees who have the maximum salary by its department\n",
    "    result = (\n",
    "        merged_df\n",
    "            .filter(pl.col('salary').is_in(max_salaries))\n",
    "            .select(['name_department', 'name', 'salary'])\n",
    "            .rename({'name_department': 'Department', 'name': 'Employee', 'salary': 'Salary'})\n",
    "    )\n",
    "\n",
    "    return result\n",
    "\n",
    "# Display the result\n",
    "print(department_highest_salary(employee=employee, department=department))"
   ]
  },
  {
   "cell_type": "markdown",
   "metadata": {},
   "source": [
    "### Rank Scores"
   ]
  },
  {
   "cell_type": "markdown",
   "metadata": {},
   "source": [
    "#### Question\n",
    "\n",
    "DataFrame: Scores\n",
    "\n",
    "| Column Name | Type    |\n",
    "|:-----------:|:-------:|\n",
    "| id          | int     |\n",
    "| score       | decimal |\n",
    "\n",
    "id is the primary key (column with unique values) for this table.<br>\n",
    "Each row of this table contains the score of a game. Score is a floating point value with two decimal places.\n",
    " \n",
    "\n",
    "Write a solution to find the rank of the scores. The ranking should be calculated according to the following rules:\n",
    "\n",
    "The scores should be ranked from the highest to the lowest.<br>\n",
    "If there is a tie between two scores, both should have the same ranking.<br>\n",
    "After a tie, the next ranking number should be the next consecutive integer value. In other words, there should be no holes between ranks.<br>\n",
    "Return the result table ordered by score in descending order.\n",
    "\n",
    "Example:\n",
    "\n",
    "Input:<br>\n",
    "Scores dataframe:\n",
    "\n",
    "| id | score |\n",
    "|:--:|:-----:|\n",
    "| 1  | 3.50  |\n",
    "| 2  | 3.65  |\n",
    "| 3  | 4.00  |\n",
    "| 4  | 3.85  |\n",
    "| 5  | 4.00  |\n",
    "| 6  | 3.65  |\n",
    "\n",
    "Output: \n",
    "\n",
    "| score | rank |\n",
    "|:-----:|:----:|\n",
    "| 4.00  | 1    |\n",
    "| 4.00  | 1    |\n",
    "| 3.85  | 2    |\n",
    "| 3.65  | 3    |\n",
    "| 3.65  | 3    |\n",
    "| 3.50  | 4    |  "
   ]
  },
  {
   "cell_type": "markdown",
   "metadata": {},
   "source": [
    "#### Testcase"
   ]
  },
  {
   "cell_type": "code",
   "execution_count": 127,
   "metadata": {},
   "outputs": [
    {
     "name": "stdout",
     "output_type": "stream",
     "text": [
      "shape: (6, 2)\n",
      "┌─────┬───────┐\n",
      "│ id  ┆ score │\n",
      "│ --- ┆ ---   │\n",
      "│ i64 ┆ f64   │\n",
      "╞═════╪═══════╡\n",
      "│ 1   ┆ 3.5   │\n",
      "│ 2   ┆ 3.65  │\n",
      "│ 3   ┆ 4.0   │\n",
      "│ 4   ┆ 3.85  │\n",
      "│ 5   ┆ 4.0   │\n",
      "│ 6   ┆ 3.65  │\n",
      "└─────┴───────┘\n"
     ]
    }
   ],
   "source": [
    "# Test data\n",
    "data = [[1, 3.5], [2, 3.65], [3, 4.0], [4, 3.85], [5, 4.0], [6, 3.65]]\n",
    "\n",
    "# Create the DataFrame\n",
    "scores = pl.DataFrame(\n",
    "    data,\n",
    "    schema=['id', 'score']\n",
    ")\n",
    "\n",
    "# Display the DataFrame\n",
    "print(scores)"
   ]
  },
  {
   "cell_type": "markdown",
   "metadata": {},
   "source": [
    "#### Solution"
   ]
  },
  {
   "cell_type": "code",
   "execution_count": 128,
   "metadata": {},
   "outputs": [
    {
     "name": "stdout",
     "output_type": "stream",
     "text": [
      "shape: (6, 2)\n",
      "┌───────┬──────┐\n",
      "│ score ┆ rank │\n",
      "│ ---   ┆ ---  │\n",
      "│ f64   ┆ u32  │\n",
      "╞═══════╪══════╡\n",
      "│ 4.0   ┆ 1    │\n",
      "│ 4.0   ┆ 1    │\n",
      "│ 3.85  ┆ 2    │\n",
      "│ 3.65  ┆ 3    │\n",
      "│ 3.65  ┆ 3    │\n",
      "│ 3.5   ┆ 4    │\n",
      "└───────┴──────┘\n"
     ]
    }
   ],
   "source": [
    "def order_scores(scores: pl.DataFrame) -> pl.DataFrame:\n",
    "    \n",
    "    # Calculate the dense rank of the scores in descending order\n",
    "    scores = scores.with_columns(\n",
    "        pl.col('score').rank(method='dense', descending=True).alias('rank')\n",
    "    )\n",
    "    \n",
    "    # Drop the 'id' column and sort by 'score' in descending order\n",
    "    result = scores.drop('id').sort('score', descending=True)\n",
    "    \n",
    "    return result\n",
    "\n",
    "# Display the result\n",
    "print(order_scores(scores=scores))"
   ]
  },
  {
   "cell_type": "markdown",
   "metadata": {},
   "source": [
    "### Delete Duplicate Emails"
   ]
  },
  {
   "cell_type": "markdown",
   "metadata": {},
   "source": [
    "#### Question\n",
    "\n",
    "DataFrame: Person\n",
    "\n",
    "| Column Name | Type    |\n",
    "|:-----------:|:-------:|\n",
    "| id          | int     |\n",
    "| email       | varchar |\n",
    "\n",
    "id is the primary key (column with unique values) for this table.<br>\n",
    "Each row of this table contains an email. The emails will not contain uppercase letters.\n",
    " \n",
    "\n",
    "Write a solution to delete all duplicate emails, keeping only one unique email with the smallest id.\n",
    "\n",
    "For SQL users, please note that you are supposed to write a DELETE statement and not a SELECT one.\n",
    "\n",
    "For Pandas users, please note that you are supposed to modify Person in place.\n",
    "\n",
    "After running your script, the answer shown is the Person table. The driver will first compile and run your piece of code and then show the Person table. The final order of the Person table does not matter.\n",
    "\n",
    "Example:\n",
    "\n",
    "Input:<br>\n",
    "Person dataframe:\n",
    "\n",
    "| id | email            |\n",
    "|:--:|:----------------:|\n",
    "| 1  | john@example.com |\n",
    "| 2  | bob@example.com  |\n",
    "| 3  | john@example.com |\n",
    "\n",
    "Output: \n",
    "\n",
    "| id | email            |\n",
    "|:--:|:----------------:|\n",
    "| 1  | john@example.com |\n",
    "| 2  | bob@example.com  |\n",
    "\n",
    "Explanation: john@example.com is repeated two times. We keep the row with the smallest Id = 1."
   ]
  },
  {
   "cell_type": "markdown",
   "metadata": {},
   "source": [
    "#### Testcase"
   ]
  },
  {
   "cell_type": "code",
   "execution_count": 129,
   "metadata": {},
   "outputs": [
    {
     "name": "stdout",
     "output_type": "stream",
     "text": [
      "shape: (3, 2)\n",
      "┌─────┬──────────────────┐\n",
      "│ id  ┆ email            │\n",
      "│ --- ┆ ---              │\n",
      "│ i64 ┆ str              │\n",
      "╞═════╪══════════════════╡\n",
      "│ 1   ┆ john@example.com │\n",
      "│ 2   ┆ bob@example.com  │\n",
      "│ 3   ┆ john@example.com │\n",
      "└─────┴──────────────────┘\n"
     ]
    }
   ],
   "source": [
    "# Test data\n",
    "data = [[1, 'john@example.com'], [2, 'bob@example.com'], [3, 'john@example.com']]\n",
    "\n",
    "# Create the DataFrame\n",
    "person = pl.DataFrame(\n",
    "    data,\n",
    "    schema=['id', 'email']\n",
    ")\n",
    "\n",
    "# Display the DataFrame\n",
    "print(person)"
   ]
  },
  {
   "cell_type": "markdown",
   "metadata": {},
   "source": [
    "#### Solution"
   ]
  },
  {
   "cell_type": "code",
   "execution_count": 130,
   "metadata": {},
   "outputs": [
    {
     "name": "stdout",
     "output_type": "stream",
     "text": [
      "shape: (2, 2)\n",
      "┌─────┬──────────────────┐\n",
      "│ id  ┆ email            │\n",
      "│ --- ┆ ---              │\n",
      "│ i64 ┆ str              │\n",
      "╞═════╪══════════════════╡\n",
      "│ 1   ┆ john@example.com │\n",
      "│ 2   ┆ bob@example.com  │\n",
      "└─────┴──────────────────┘\n"
     ]
    }
   ],
   "source": [
    "def delete_duplicate_emails(person: pl.DataFrame) -> pl.DataFrame:\n",
    "  person = person.sort('id', descending=False)\n",
    "  person = person.unique(subset=['email'], keep='first')\n",
    "  return person\n",
    "\n",
    "# Display the result\n",
    "print(delete_duplicate_emails(person=person))"
   ]
  },
  {
   "cell_type": "markdown",
   "metadata": {},
   "source": [
    "### Rearrange Products Table"
   ]
  },
  {
   "cell_type": "markdown",
   "metadata": {},
   "source": [
    "#### Question\n",
    "\n",
    "DataFrame: Products\n",
    "\n",
    "| Column Name | Type    |\n",
    "|:-----------:|:-------:|\n",
    "| product_id  | int     |\n",
    "| store1      | int     |\n",
    "| store2      | int     |\n",
    "| store3      | int     |\n",
    "\n",
    "product_id is the primary key (column with unique values) for this table.<br>\n",
    "Each row in this table indicates the product's price in 3 different stores: store1, store2, and store3.<br>\n",
    "If the product is not available in a store, the price will be null in that store's column.\n",
    " \n",
    "\n",
    "Write a solution to rearrange the Products table so that each row has (product_id, store, price). If a product is not available in a store, do not include a row with that product_id and store combination in the result table.\n",
    "\n",
    "Return the result table in any order.\n",
    "\n",
    "Example:\n",
    "\n",
    "Input:<br>\n",
    "Products dataframe:\n",
    "\n",
    "| product_id | store1 | store2 | store3 |\n",
    "|:----------:|:-------|:------:|:------:|\n",
    "| 0          | 95     | 100    | 105    |\n",
    "| 1          | 70     | null   | 80     |\n",
    "\n",
    "Output: \n",
    "\n",
    "| product_id | store  | price |\n",
    "|:----------:|:------:|:-----:|\n",
    "| 0          | store1 | 95    |\n",
    "| 0          | store2 | 100   |\n",
    "| 0          | store3 | 105   |\n",
    "| 1          | store1 | 70    |\n",
    "| 1          | store3 | 80    |\n",
    "\n",
    "Explanation:<br>\n",
    "Product 0 is available in all three stores with prices 95, 100, and 105 respectively.<br>\n",
    "Product 1 is available in store1 with price 70 and store3 with price 80. The product is not available in store2."
   ]
  },
  {
   "cell_type": "markdown",
   "metadata": {},
   "source": [
    "#### Testcase"
   ]
  },
  {
   "cell_type": "code",
   "execution_count": 131,
   "metadata": {},
   "outputs": [
    {
     "name": "stdout",
     "output_type": "stream",
     "text": [
      "shape: (2, 4)\n",
      "┌────────────┬────────┬────────┬────────┐\n",
      "│ product_id ┆ store1 ┆ store2 ┆ store3 │\n",
      "│ ---        ┆ ---    ┆ ---    ┆ ---    │\n",
      "│ i64        ┆ i64    ┆ i64    ┆ i64    │\n",
      "╞════════════╪════════╪════════╪════════╡\n",
      "│ 0          ┆ 95     ┆ 100    ┆ 105    │\n",
      "│ 1          ┆ 70     ┆ null   ┆ 80     │\n",
      "└────────────┴────────┴────────┴────────┘\n"
     ]
    }
   ],
   "source": [
    "# Test data\n",
    "data = [[0, 95, 100, 105], [1, 70, None, 80]]\n",
    "\n",
    "# Create the DataFrame\n",
    "products = pl.DataFrame(\n",
    "    data,\n",
    "    schema=['product_id', 'store1', 'store2', 'store3']\n",
    ")\n",
    "\n",
    "# Display the DataFrame\n",
    "print(products)"
   ]
  },
  {
   "cell_type": "markdown",
   "metadata": {},
   "source": [
    "#### Solution"
   ]
  },
  {
   "cell_type": "code",
   "execution_count": 132,
   "metadata": {},
   "outputs": [
    {
     "name": "stdout",
     "output_type": "stream",
     "text": [
      "shape: (5, 3)\n",
      "┌────────────┬────────┬───────┐\n",
      "│ product_id ┆ store  ┆ price │\n",
      "│ ---        ┆ ---    ┆ ---   │\n",
      "│ i64        ┆ str    ┆ i64   │\n",
      "╞════════════╪════════╪═══════╡\n",
      "│ 0          ┆ store1 ┆ 95    │\n",
      "│ 1          ┆ store1 ┆ 70    │\n",
      "│ 0          ┆ store2 ┆ 100   │\n",
      "│ 0          ┆ store3 ┆ 105   │\n",
      "│ 1          ┆ store3 ┆ 80    │\n",
      "└────────────┴────────┴───────┘\n"
     ]
    }
   ],
   "source": [
    "def rearrange_products_table(products: pl.DataFrame) -> pl.DataFrame:\n",
    "    \n",
    "    # Use the melt function to reshape the DataFrame\n",
    "    melted_df = products.melt(\n",
    "        id_vars='product_id', \n",
    "        variable_name='store', \n",
    "        value_name='price'\n",
    "    )\n",
    "    \n",
    "    # Drop rows with null values\n",
    "    result = melted_df.drop_nulls()\n",
    "    \n",
    "    return result\n",
    "\n",
    "# Display the DataFrame\n",
    "print(rearrange_products_table(products=products))"
   ]
  }
 ],
 "metadata": {
  "kernelspec": {
   "display_name": "polars_exercises_env",
   "language": "python",
   "name": "python3"
  },
  "language_info": {
   "codemirror_mode": {
    "name": "ipython",
    "version": 3
   },
   "file_extension": ".py",
   "mimetype": "text/x-python",
   "name": "python",
   "nbconvert_exporter": "python",
   "pygments_lexer": "ipython3",
   "version": "3.11.2"
  }
 },
 "nbformat": 4,
 "nbformat_minor": 2
}
